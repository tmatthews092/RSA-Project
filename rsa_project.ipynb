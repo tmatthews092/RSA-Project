{
 "cells": [
  {
   "cell_type": "markdown",
   "metadata": {},
   "source": [
    "## RSA - The Project"
   ]
  },
  {
   "cell_type": "markdown",
   "metadata": {},
   "source": [
    "Name: Theodore Matthews"
   ]
  },
  {
   "cell_type": "markdown",
   "metadata": {
    "tags": []
   },
   "source": [
    "<hr />\n",
    "\n",
    "# Table of Contents <a name=\"toc\"></a>\n",

    "## 1. [Introduction to your RSA Project](#introduction)\n",
    "\n",
    "\n",
    "## 2. [Code Package: FME](#fme-all)\n",
    "\n",
    "&nbsp;&nbsp;&nbsp;&nbsp;&nbsp;&nbsp;&nbsp;&nbsp;&nbsp;&nbsp;&nbsp;&nbsp;&nbsp;&nbsp;&nbsp;&nbsp;<span>* [Convert_Binary_String](#cbs)</span>\\\n",
    "&nbsp;&nbsp;&nbsp;&nbsp;&nbsp;&nbsp;&nbsp;&nbsp;&nbsp;&nbsp;&nbsp;&nbsp;&nbsp;&nbsp;&nbsp;&nbsp;<span>* [FME](#fme)</span>\n",
    "\n",
    "## 3. [Code Package: Key Generation using Euclidean Algorithms](#euclidean-all)\n",
    "&nbsp;&nbsp;&nbsp;&nbsp;&nbsp;&nbsp;&nbsp;&nbsp;&nbsp;&nbsp;&nbsp;&nbsp;&nbsp;&nbsp;&nbsp;&nbsp;<span>* [Euclidean Algorithm](#euclidean-algorithm)</span>\\\n",
    "&nbsp;&nbsp;&nbsp;&nbsp;&nbsp;&nbsp;&nbsp;&nbsp;&nbsp;&nbsp;&nbsp;&nbsp;&nbsp;&nbsp;&nbsp;&nbsp;<span>* [Extended Euclidean Algorithm](#eea)</span>\\\n",
    "&nbsp;&nbsp;&nbsp;&nbsp;&nbsp;&nbsp;&nbsp;&nbsp;&nbsp;&nbsp;&nbsp;&nbsp;&nbsp;&nbsp;&nbsp;&nbsp;<span>* [Find_Public_Key_e](#find-public-key)</span>\\\n",
    "&nbsp;&nbsp;&nbsp;&nbsp;&nbsp;&nbsp;&nbsp;&nbsp;&nbsp;&nbsp;&nbsp;&nbsp;&nbsp;&nbsp;&nbsp;&nbsp;<span>* [Find_Private_Key_d](#find-private-key)</span>\n",
    "\n",
    "## 4. [Code Package: En/Decode Your Messages](#encrypt-decode)\n",
    "&nbsp;&nbsp;&nbsp;&nbsp;&nbsp;&nbsp;&nbsp;&nbsp;&nbsp;&nbsp;&nbsp;&nbsp;&nbsp;&nbsp;&nbsp;&nbsp;<span>* [Convert_Text](#convert-text)</span>\\\n",
    "&nbsp;&nbsp;&nbsp;&nbsp;&nbsp;&nbsp;&nbsp;&nbsp;&nbsp;&nbsp;&nbsp;&nbsp;&nbsp;&nbsp;&nbsp;&nbsp;<span>* [Convert_Num](#convert-num)</span>\\\n",
    "&nbsp;&nbsp;&nbsp;&nbsp;&nbsp;&nbsp;&nbsp;&nbsp;&nbsp;&nbsp;&nbsp;&nbsp;&nbsp;&nbsp;&nbsp;&nbsp;<span>* [Encode](#encode)</span>\\\n",
    "&nbsp;&nbsp;&nbsp;&nbsp;&nbsp;&nbsp;&nbsp;&nbsp;&nbsp;&nbsp;&nbsp;&nbsp;&nbsp;&nbsp;&nbsp;&nbsp;<span>* [Decode](#decode)</span>\n",
    "\n",
    "\n",
    "## 5. [Create a Code Demo](#demo)\n",
    "&nbsp;&nbsp;&nbsp;&nbsp;&nbsp;&nbsp;&nbsp;&nbsp;&nbsp;&nbsp;&nbsp;&nbsp;&nbsp;&nbsp;&nbsp;&nbsp;<span>* [Convert_Binary_String Demo](#cbs-demo)</span>\\\n",
    "&nbsp;&nbsp;&nbsp;&nbsp;&nbsp;&nbsp;&nbsp;&nbsp;&nbsp;&nbsp;&nbsp;&nbsp;&nbsp;&nbsp;&nbsp;&nbsp;<span>* [FME Demo](#fme-demo)</span>\\\n",
    "&nbsp;&nbsp;&nbsp;&nbsp;&nbsp;&nbsp;&nbsp;&nbsp;&nbsp;&nbsp;&nbsp;&nbsp;&nbsp;&nbsp;&nbsp;&nbsp;<span>* [Euclidean Algorithm Demo](#euclidean-algorithm-demo)</span>\\\n",
    "&nbsp;&nbsp;&nbsp;&nbsp;&nbsp;&nbsp;&nbsp;&nbsp;&nbsp;&nbsp;&nbsp;&nbsp;&nbsp;&nbsp;&nbsp;&nbsp;<span>* [Extended Euclidean Algorithm Demo](#eea-demo)</span>\\\n",
    "&nbsp;&nbsp;&nbsp;&nbsp;&nbsp;&nbsp;&nbsp;&nbsp;&nbsp;&nbsp;&nbsp;&nbsp;&nbsp;&nbsp;&nbsp;&nbsp;<span>* [Find_Public_Key_e and Find_Private_Key_d Demo](#keys-demo)</span>\\\n",
    "&nbsp;&nbsp;&nbsp;&nbsp;&nbsp;&nbsp;&nbsp;&nbsp;&nbsp;&nbsp;&nbsp;&nbsp;&nbsp;&nbsp;&nbsp;&nbsp;<span>* [Convert_Text Demo](#convert-text-demo)</span>\\\n",
    "&nbsp;&nbsp;&nbsp;&nbsp;&nbsp;&nbsp;&nbsp;&nbsp;&nbsp;&nbsp;&nbsp;&nbsp;&nbsp;&nbsp;&nbsp;&nbsp;<span>* [Convert_Num Demo](#convert-num-demo)</span>\\\n",
    "&nbsp;&nbsp;&nbsp;&nbsp;&nbsp;&nbsp;&nbsp;&nbsp;&nbsp;&nbsp;&nbsp;&nbsp;&nbsp;&nbsp;&nbsp;&nbsp;<span>* [Encode Demo](#encode-demo)</span>\\\n",
    "&nbsp;&nbsp;&nbsp;&nbsp;&nbsp;&nbsp;&nbsp;&nbsp;&nbsp;&nbsp;&nbsp;&nbsp;&nbsp;&nbsp;&nbsp;&nbsp;<span>* [Decode Demo](#decode-demo)</span>\n",
    "\n",
    "## 6. [Code Exchange Results](#code-exchange)\n",
    "\n",
    "## 7. [Write a Narrative](#narrative)\n",
    "\n",
    "## 8. [Code Breaking:](#code-breaking) \n",
    "\n",
    "## 9. [Code Breaking: Complete Examples](#code-breaking-examples) \n",
    "\n",
    "## 10. [Custom code feature / Advanced options](#custom-code) \n"
   ]
  },
  {
   "cell_type": "markdown",
   "metadata": {},
   "source": [
    "## 1. Introduction to your RSA Project <a name=\"introduction\"></a>\n",
    "Back to [Table of Contents](#toc)\n",
    "\n",
    "RSA cryptosystem encrypts messages using modular exponentiation where the modulus is the product of two large primes. We use RSA today because modern computers are unable to quickly factorize large numbers. If done correctly, encrypted messages with 4096 bit long integers will not be broken for billions of years. However, Quantum Computers using [Shor’s algorithm](#https://en.wikipedia.org/wiki/Shor%27s_algorithm) may change the landscape making RSA obsolete. \n",
    "\n",
    "This project explores and implements RSA through a series of methods, FME, EEA, Find_Public_Key_e, Find_Private_Key_d, Encode, and Decode. FME, fast modular exponentiation, illustrates how exponentiation with large numbers can be solved by squaring numbers instead. EEA, extended euclidean algorithm, calculates the greatest common divisor between two numbers and identifies the Bezout Coefficients, this method is the key to RSA. Find_Public_Key_e uses the Euclidean Algorithm facet of EEA to find public keys n and e given two primes. Find_Public_Key_d, calculates the private keys n and d give e and n. Encode  uses FME to encrypt string messages and decode uses FME to decrypt the encoded message we receive or construct. We will see that the combination of these methods can be used to independently enact each part of the RSA process. \n",
    "\n",
    "I went step-by-step to build this project, following the lectures and reading the textbook to implement each algorithm, decrypt and encrypt messages. At times difficult to follow, the lectures proved quite handy as Sriram gave guidance and clarity in building some of the more complex algorithms like EEA. To implement the Find Keys methods I turned to the textbook to understand the math behind how to calculate e and d. Encode and Decode were straightforward in definition in pages 299 and 301. Using the Piazza codes I was able to test my code and feel confident that I had constructed the methods correctly. For my custom code I decided to write a main method which calls specific methods for the user with prompts for prime integers, it even will generate primes for you.\n"
   ]
  },
  {
   "cell_type": "markdown",
   "metadata": {},
   "source": [
    "## 2. Code Package FME<a name=\"fme-all\"></a>\n",
    "Back to [Table of Contents](#toc)"
   ]
  },
  {
   "cell_type": "markdown",
   "metadata": {},
   "source": [
    "#### Convert Binary String <a name=\"cbs\"></a>"
   ]
  },
  {
   "cell_type": "code",
   "execution_count": null,
   "metadata": {},
   "outputs": [
    {
     "name": "stdout",
     "output_type": "stream",
     "text": [
      "1000\n",
      "111100\n",
      "111101\n",
      "111111\n",
      "1000000\n"
     ]
    }
   ],
   "source": [
    "def Convert_Binary_String(_int):\n",
    "    \"\"\"\n",
    "    @description: Convert an integer value to its string binary value \n",
    "    For example:\n",
    "    _int = 345\n",
    "    bits = 101011001\n",
    "    @param _int, some positive integer value\n",
    "    @return string, binary representation of a positive integer value\n",
    "    \"\"\"\n",
    "    if type(_int) != type(0):\n",
    "        return 'Not a valid parameter value type, please provide a integer.'\n",
    "    l = []\n",
    "    if _int == 0: # if we are seeing a zero we breakout by returning 0, \n",
    "        return '0'\n",
    "    while _int > 0: # while int is greater than 0, since we continue to half this value until it equals zero\n",
    "        k = str(_int % 2) # find the 0 or 1 bit of the least significant digit\n",
    "        l.insert(0, k) # insert it at the beginning of the list to build binary as we get the next bit in base 2\n",
    "        _int = _int // 2 \n",
    "    return ''.join(l) # join all the elements of the list together and return"
   ]
  },
  {
   "cell_type": "markdown",
   "metadata": {},
   "source": [
    "#### FME <a name=\"fme\"></a>"
   ]
  },
  {
   "cell_type": "code",
   "execution_count": null,
   "metadata": {},
   "outputs": [
    {
     "data": {
      "text/plain": [
       "1"
      ]
     },
     "execution_count": 9,
     "metadata": {},
     "output_type": "execute_result"
    }
   ],
   "source": [
    "def FME(b, n, m):\n",
    "    \"\"\"\n",
    "        @description: Determines the value of b^n mod m, using Sriram's algorithm. It converts n to binary and multiplies 1 bit values with the square of b\n",
    "        @param: b int, number that is to the power of some n\n",
    "        @param: n int, number exponent\n",
    "        @param: m int, the modulo value\n",
    "        @return: result int, the value of b^n mod m\n",
    "    \"\"\"\n",
    "    if type(b) != type(0) or type(n) != type(0) or type(m) != type(0):\n",
    "        return 'b, n, and m must be of integer type: {},{},{}'.format(b,n,m)\n",
    "    result = 1 # init as 1, avoid NPE\n",
    "    square = b # init as given a in a^n mod b\n",
    "    while n > 0: # will exist once all bits have been looped through\n",
    "        k = n % 2 # converts n to binary, will exit when steps are complete \n",
    "        if k == 1: # if the bit is 1\n",
    "            result = (result * square) % m # 1 bit n values multiplied by the square\n",
    "        square = (square * square) % m # square^2, square^4, square^8... square^k-1, square^k\n",
    "        n //= 2 # divide by base 2, to get next bit\n",
    "    return result\n",
    "\n",
    "FME(27,-10, 3)"
   ]
  },
  {
   "cell_type": "markdown",
   "metadata": {
    "tags": []
   },
   "source": [
    "## 3. Code Package: Key Generation using Euclidean Algorithms <a name=\"euclidean-all\"></a>\n",
    "\n",
    "Back to [Table of Contents](#toc)"
   ]
  },
  {
   "cell_type": "markdown",
   "metadata": {},
   "source": [
    "#### Euclidean Algorithm <a name=\"euclidean-algorithm\"></a>"
   ]
  },
  {
   "cell_type": "code",
   "execution_count": null,
   "metadata": {},
   "outputs": [
    {
     "data": {
      "text/plain": [
       "1"
      ]
     },
     "execution_count": 3,
     "metadata": {},
     "output_type": "execute_result"
    }
   ],
   "source": [
    "def Euclidean_Alg(a, b):\n",
    "    \"\"\"\n",
    "    @description Calculate the Greatest Common Divisor of a and b. \n",
    "    This code is from The Euclidean Algorithm from page 269 in Discrete Mathematics and Its Applications 7th Edition\n",
    "    @param a positive integer value\n",
    "    @param b positive integer value\n",
    "    @return integer Greatest Common Divisor of a and b\n",
    "    \"\"\"\n",
    "    if type(a) != type(0) or type(b) != type(0):\n",
    "        return 'a and b must be of integer type to find the greater common divisor: {},{}'.format(a,b)\n",
    "    if a < 0 or b < 0:\n",
    "        return 'A value provided is not positive, all integer values must be positive: {},{}'.format(a,b)\n",
    "    x = a\n",
    "    y = b\n",
    "    while y != 0: # while the remainder is not 0\n",
    "        r = x % y # get the remainder of x modulo y\n",
    "        x = y\n",
    "        y = r\n",
    "    return x"
   ]
  },
  {
   "cell_type": "markdown",
   "metadata": {},
   "source": [
    "#### Extended Euclidean Algorithm <a name=\"eea\"></a>"
   ]
  },
  {
   "cell_type": "code",
   "execution_count": null,
   "metadata": {},
   "outputs": [
    {
     "data": {
      "text/plain": [
       "(7, (11, -2))"
      ]
     },
     "execution_count": 3,
     "metadata": {},
     "output_type": "execute_result"
    }
   ],
   "source": [
    "def EEA(a, b):\n",
    "    '''\n",
    "        @description uses the extended euclidean algorithm to find the greatest common divisor(gcd) of two positive integers a and b, and the bezout coefficients required to compute the gcd\n",
    "        @param a, positive integer\n",
    "        @param b, positive integer\n",
    "        @return integer a (gcd), tuple s1,t1 (bezout coefficients)\n",
    "    '''\n",
    "    if type(a) != type(0) or type(b) != type(0):\n",
    "        return 'a and b must be of integer type: {},{}'.format(a,b)\n",
    "    if a < 0 or b < 0:\n",
    "        return 'A value provided is not positive, all integer values must be positive: {},{}'.format(a,b)\n",
    "    s1, t1, s2, t2 = 1,0,0,1 # initialize all starting bezout coefficients\n",
    "    \n",
    "    while b > 0:\n",
    "        k = a % b # find the remainder \n",
    "        q = a // b # find the quotient\n",
    "        \n",
    "        a = b # assigning a = b or (s2m0 + t2n0)\n",
    "        b = k # assign the remainder to n\n",
    "        \n",
    "        # because we set m = n we need to assign the n's bezout coefficients to m's bezout coefficients\n",
    "        s1_hat,t1_hat = s2,t2 # set temporary values for s1 and t1 \n",
    "        # because we set n = k, we use k = m mod n or m0 n0's bezout coefficients which is equal to (s1 - qs2)m0 + (t1 - qt2)n0\n",
    "        s2_hat,t2_hat = s1 - q * s2, t1 - q * t2 # set temporary values for s2 and t2 \n",
    "\n",
    "        s1,t1 = s1_hat,t1_hat # assign back the temporary values to s1 and t1\n",
    "        s2,t2 = s2_hat,t2_hat # assign back the temporary values to s2 and t2\n",
    "    return a,(s1,t1)"
   ]
  },
  {
   "cell_type": "markdown",
   "metadata": {},
   "source": [
    "#### Find_Public_Key_e and Find_Private_Key_d Helper Methods"
   ]
  },
  {
   "cell_type": "code",
   "execution_count": 5,
   "metadata": {},
   "outputs": [],
   "source": [
    "def is_prime(num):\n",
    "    \"\"\"\n",
    "    @description Helper method to identify if the number provided is a prime number\n",
    "    @param num, integer\n",
    "    @return bool\n",
    "    \"\"\"\n",
    "    if num < 2:\n",
    "        return False\n",
    "    for i in range(2, num): # all numbers in range of primes to num\n",
    "        if num != i and num % i == 0: # as we loop through all numbers from 2 to num, if any of them are divisors of num then num is not a prime\n",
    "            return False\n",
    "    return True\n",
    "\n",
    "def increment_by_mod(num, mod):\n",
    "    \"\"\"\n",
    "    @description Helper method to incrementally add the mod to a num if it is negative\n",
    "    @param num, integer to increment\n",
    "    @param mod, the modulus \n",
    "    \"\"\"\n",
    "    while(num < 0): # while the num is negative\n",
    "        num = num + mod # increment it by the mod\n",
    "    return num\n",
    "\n",
    "def calc_lcm(a, b):\n",
    "    \"\"\"\n",
    "    @description calculate and return the least common multiple for two integers a and b\n",
    "    @param a integer\n",
    "    @param b integer\n",
    "    @return integer least common multiple of a and b\n",
    "    \"\"\"\n",
    "    return abs(a*b)/Euclidean_Alg(a, b) # https://en.wikipedia.org/wiki/RSA_(cryptosystem)\n",
    "\n",
    "def calc_e(p, q, lcm):\n",
    "    \"\"\"\n",
    "    @description calculates the e for two integers p and q, while keeping the value of e between 1 and the lcm of p-1 and q-1, returns e\n",
    "    @param p positive integer\n",
    "    @param q positive integer\n",
    "    @param lcm the least common multiple of p-1 and q-1\n",
    "    @return e integer, where 1 < e < lcm\n",
    "    \"\"\"\n",
    "    found_relatively_prime_e = False # bool tracker for relative primes and exit value on loop\n",
    "    e = 2\n",
    "    while e < lcm and found_relatively_prime_e == False: # since e must be relatively prime with (p-1)*(q-1), then we can check up to and including itself\n",
    "        if e == p or e == q: # e cannot equal p or q\n",
    "            e = e + 1 # if the value is not relatively prime then increment\n",
    "            continue\n",
    "        if Euclidean_Alg(e, (p-1)*(q-1)) == 1: # if the e is relatively prime, ie gcd is 1 with (p-1)*(q-1)\n",
    "            found_relatively_prime_e = True # then we've found an e\n",
    "        else:\n",
    "            e = e + 1 # if the value is not relatively prime then increment\n",
    "    return e"
   ]
  },
  {
   "cell_type": "markdown",
   "metadata": {},
   "source": [
    "#### Find_Public_Key_e <a name=\"find-public-key\"></a>"
   ]
  },
  {
   "cell_type": "code",
   "execution_count": null,
   "metadata": {},
   "outputs": [],
   "source": [
    "def Find_Public_Key_e(p, q):\n",
    "    \"\"\"\n",
    "    @description Find_Public_Key_e takes two primes p and q, and finds an e such that it is relatively prime to (p-1)(q-1)\n",
    "    @param p prime integer\n",
    "    @param q prime integer\n",
    "    @return n (p*q), e\n",
    "    \"\"\"\n",
    "    if p < 2 or q < 2: # arguments p and q must be equal to or greater than 2\n",
    "        return 'All values provided must be greater than or equal to 2, and prime: {},{}'.format(p,q)\n",
    "    if not is_prime(p) or not is_prime(q): # check whether p or q is a prime, if not return the p,q values and ask for primes\n",
    "        return 'All values provided must be prime {},{}'.format(p,q)\n",
    "    lcm = calc_lcm(p-1, q-1) # https://en.wikipedia.org/wiki/RSA_(cryptosystem) e should be in the range 1 < e < lcm(p-1,q-1)\n",
    "    return p*q, calc_e(p,q,lcm) # return n, e"
   ]
  },
  {
   "cell_type": "markdown",
   "metadata": {},
   "source": [
    "#### Find_Private_Key_d <a name=\"find-private-key\"></a>"
   ]
  },
  {
   "cell_type": "code",
   "execution_count": null,
   "metadata": {},
   "outputs": [],
   "source": [
    "def Find_Private_Key_d(e, p, q):\n",
    "    \"\"\"\n",
    "    @description Find_Private_Key_d finds the inverse d of e modulo (p-1)(q-1). This is done by using the Extended Euclidean Algorithm, finding the Bezout coefficient s in sm + tn.\n",
    "    @param e integer relatively prime to (p-1)(q-1)\n",
    "    @param p prime integer\n",
    "    @param q prime integer\n",
    "    @return d integer\n",
    "    \"\"\"\n",
    "    if e < 0:\n",
    "        return 'e must be a positive integer {}'.format(e)\n",
    "    if p < 2 or q < 2: # arguments p and q must be equal to or greater than 2\n",
    "        return 'All values provided must be greater than or equal to 2, and prime: {},{}'.format(p,q)\n",
    "    if not is_prime(p) or not is_prime(q): # check whether p or q is a prime, if not return the p,q values and ask for primes\n",
    "        return 'All values provided must be prime {},{}'.format(p,q)\n",
    "    gcd, b_coefficients = EEA(e, (p-1)*(q-1)) # find the gcd of e and n, as well as the bezout coefficients\n",
    "    d = int(b_coefficients[0]) # in Bezouts theorem, sa + tb, s is d, which is the inverse of e\n",
    "    d = increment_by_mod(d, (p-1)*(q-1)) # if d is negative add the mod to it\n",
    "    return d"
   ]
  },
  {
   "cell_type": "markdown",
   "metadata": {},
   "source": [
    "## 4. Code Package: En/Decode Your Messages <a name=\"encrypt-decode\"></a>\n",
    "\n",
    "Back to [Table of Contents](#toc)\n"
   ]
  },
  {
   "cell_type": "markdown",
   "metadata": {},
   "source": [
    "#### Convert_Text <a name=\"convert-text\"></a>"
   ]
  },
  {
   "cell_type": "code",
   "execution_count": null,
   "metadata": {},
   "outputs": [],
   "source": [
    "def Convert_Text(_string):\n",
    "    \"\"\"\n",
    "    @description converts string to an array of unicodes for each character in the string\n",
    "    @param string\n",
    "    @return array of unicodes\n",
    "    \"\"\"\n",
    "    integer_list = []\n",
    "    for letter in _string:\n",
    "        integer_list.append(ord(letter)) # append each converted string onto integer list\n",
    "    return integer_list"
   ]
  },
  {
   "cell_type": "markdown",
   "metadata": {},
   "source": [
    "#### Convert_Num <a name=\"convert-num\"></a>"
   ]
  },
  {
   "cell_type": "code",
   "execution_count": null,
   "metadata": {},
   "outputs": [],
   "source": [
    "def Convert_Num(_list):\n",
    "    \"\"\"\n",
    "    @description converts an array of unicodes into a string\n",
    "    @param array of unicodes\n",
    "    @return string\n",
    "    \"\"\"\n",
    "    _string = ''\n",
    "    for i in _list:\n",
    "        _string += chr(i) # append each converted integer onto string list\n",
    "    return _string"
   ]
  },
  {
   "cell_type": "markdown",
   "metadata": {},
   "source": [
    "#### Encode <a name=\"encode\"></a>"
   ]
  },
  {
   "cell_type": "code",
   "execution_count": null,
   "metadata": {},
   "outputs": [],
   "source": [
    "def Encode(n, e, message):\n",
    "    \"\"\"\n",
    "    @description takes a string an encrypts by first converting each character to unicode, then using FME on each unicode C = M**e mod n\n",
    "    @param integer n, p*q public key\n",
    "    @param integer e, e relatively prime to (p-1)(q-1) public key \n",
    "    @param string message to encrypt\n",
    "    @return list, encoded unicodes\n",
    "    \"\"\"\n",
    "    cipher_text = []\n",
    "    converted_msg = Convert_Text(message) # convert a string to an array of unicodes\n",
    "    for code in converted_msg: # for each unicode in the array \n",
    "        cipher_text.append(FME(code, e, n)) # encrypt the unicode using Fast Modular exponentiation, C = M**e mod n\n",
    "    return cipher_text"
   ]
  },
  {
   "cell_type": "markdown",
   "metadata": {},
   "source": [
    "#### Decode <a name=\"decode\"></a>"
   ]
  },
  {
   "cell_type": "code",
   "execution_count": null,
   "metadata": {},
   "outputs": [],
   "source": [
    "def Decode(n, d, cipher_text):\n",
    "    \"\"\"\n",
    "    @description takes a array of encrypted unicodes and decrypts using the inverse d of e modulo (p-1)(q-1) to find M = C**d mod n\n",
    "    @param integer, n p*q public key\n",
    "    @param integer, d \n",
    "    @param list, encrypted unicodes\n",
    "    @return string decrypted unicodes\n",
    "    \"\"\"\n",
    "    message = ''\n",
    "    decrypted_text = []\n",
    "    for code in cipher_text: # for each unicode in the array\n",
    "        decrypted_text.append(FME(code, d, n)) # decrypt the unicodes using Fast modular exponentiation, M = C**d mod n\n",
    "    message = Convert_Num(decrypted_text) # convert the decrypted unicodes to a string\n",
    "    return message"
   ]
  },
  {
   "cell_type": "markdown",
   "metadata": {
    "tags": []
   },
   "source": [
    "### 5. Create a Code Demo <a name=\"demo\"></a>\n",
    "\n",
    "Back to [Table of Contents](#toc)\n",
    "\n"
   ]
  },
  {
   "cell_type": "markdown",
   "metadata": {},
   "source": [
    "\n",
    "* Convert_Text\n",
    "* Convert_Num\n",
    "* Encode\n",
    "* Decode"
   ]
  },
  {
   "cell_type": "markdown",
   "metadata": {},
   "source": [
    "#### Convert_Binary_String <a name=\"cbs-demo\"></a>\n",
    "\n",
    "[Navigate to code](#cbs)\n",
    "\n",
    "Convert Binary String, is a helper method for FME when using the book's algorithm, however, I chose to do Sriram's algorithm. Nevertheless I will explain it's functionality. Convert_Binary_String converts an integer to it's binary value as a string. For instance, Convert_Binary_String(20) = '10100'. To find the binary for 20 we iterate over 20 divide it by 2 to find each bit in base 2. To find the exact bit, we use 20 modulo 2 and its subsequent quotients. We add those bits at the beginning of the array since those bits found are the least significant digit of the binary number. We then join them together as the return value for the method. To demonstrate that division and modulo work let's walkthrough converting 20 to binary.\n",
    "| int % 2 | int // 2  | bin list |\n",
    "|--------|--------|------------|\n",
    "| 20 % 2 = 0     | 20 // 2 = 10   | 0          |\n",
    "| 10 % 2 = 0      | 10 // 2 = 5    | 0,0          |\n",
    "| 5 % 2 = 1      | 5 // 2 = 2     | 1,0,0          |\n",
    "| 2 % 2 = 0      | 2 // 2 = 1      | 0,1,0,0          |\n",
    "| 1 % 2 = 1      | 1 // 2 = 0      | 1,0,1,0,0          |\n",
    "<p>HIT EXIT CONDITION</p>\n",
    "<p>returned value is '10100'</p>"
   ]
  },
  {
   "cell_type": "code",
   "execution_count": 12,
   "metadata": {},
   "outputs": [
    {
     "name": "stdout",
     "output_type": "stream",
     "text": [
      "All tests pass!\n"
     ]
    }
   ],
   "source": [
    "#Tests\n",
    "assert Convert_Binary_String(20) == '10100'\n",
    "assert Convert_Binary_String(0) == '0'\n",
    "assert Convert_Binary_String('a') == 'Not a valid parameter value type, please provide a integer.'\n",
    "assert Convert_Binary_String(None) == 'Not a valid parameter value type, please provide a integer.'\n",
    "assert Convert_Binary_String(1.1) == 'Not a valid parameter value type, please provide a integer.'\n",
    "print('All tests pass!')"
   ]
  },
  {
   "cell_type": "markdown",
   "metadata": {},
   "source": [
    "#### FME <a name=\"fme-demo\"></a>\n",
    "[Navigate to code](#fme)\n",
    "* When you call FME, explain breifly why we can can't take the \"mod\" of our number using \"%\".\n",
    "\n",
    "FME, put simply uses the parameters b, n, and m to find the value b<sup>n</sup> mod m. Why not use `b**n % m`, instead of Exponentiation by Squaring, because `b**n % m` is slow. Why it's slow is that the computating time for `b**n` for large numbers is signficant. For example, computing `3**(10**7)` takes ~2.5 seconds in Jupyter, however, once you increase `3**(10**8)` Jupyter takes ~1.5 minutes. Storing and computing huge numbers then taking the modulo is difficult for modern computers. Even when switching the values of b and n, we still see a significant slowdown in computation speed when numbers become very large. The drawbacks of `b**n % m` are why FME is used instead. Unlike `b**n % m`, FME is much quicker it uses a similar algorithm of Convert_Binary_String (see above description). Like in Convert_Binary_String where modulo and division are used to find each bit, FME uses these values to step through the number while calculating the exponential of `b**n` by squaring values: `result = (result * square) % mod` and `square = (square * square) % m`. In contrast to `b**n % m` FME uses these statements to square in increments rather than computing and storing massive exponentials."
   ]
  },
  {
   "cell_type": "code",
   "execution_count": 13,
   "metadata": {},
   "outputs": [
    {
     "name": "stdout",
     "output_type": "stream",
     "text": [
      "b**n % m execution time in seconds: 2.56\n",
      "fme execution time in seconds: 0.000050\n",
      "All tests pass!\n"
     ]
    }
   ],
   "source": [
    "import time\n",
    "\n",
    "b = 3\n",
    "n = 10**7\n",
    "m = 1337\n",
    "\n",
    "# we can see the difference in runtimes below\n",
    "start = time.time()\n",
    "no_fme_result = (b ** n) % 1337\n",
    "stop = time.time()\n",
    "print('b**n % m execution time in seconds: {:.2f}'.format(stop - start))\n",
    "\n",
    "start = time.time()\n",
    "fme_result = FME(b, n, m)\n",
    "stop = time.time()\n",
    "print('fme execution time in seconds: {:.6f}'.format(stop - start))\n",
    "\n",
    "#Tests\n",
    "assert no_fme_result == fme_result\n",
    "assert FME(13, None, 5) == 'b, n, and m must be of integer type: {},{},{}'.format(13, None, 5)\n",
    "print('All tests pass!')"
   ]
  },
  {
   "cell_type": "markdown",
   "metadata": {},
   "source": [
    "#### Euclidean Algorithm <a name=\"euclidean-algorithm-demo\"></a>\n",
    "\n",
    "[Navigate to code](#euclidean-algorithm)\n",
    "\n",
    "The Euclidean Algorithm method calculates the greatest common divisor (GCD) of two positive integers a and b. For instance, a = 24, b = 12, the GCD of these two numbers are 12, because 12 | 12 = 1 and 12 | 24 = 2, the quotient does not have any remainder. The algorithm is relatively straight forward, the key is determining whether $a % b$ is 0, meaning there is no remainder and thus b is the GCD. If we find that the modulo of $a % b$ is not 0, we assign the remainder to b and check again. We can do a quick walkthrough of larger numbers, 108 and 26, to illustrate the behavior.\n",
    "| Step | a   | b   | a % b  |\n",
    "|------|-----|-----|--------|\n",
    "| 1    | 108 | 26  | 4      |\n",
    "| 2    | 26  | 4   | 2      |\n",
    "| 3    | 4   | 2   | 0      |\n",
    "\n",
    "We can see the GCD of 108 and 26 is 2. In code we can see this happening, which is equivalent to the table above\n",
    "```\n",
    "r = a % b # r is the remainder of a modulo b\n",
    "a = b \n",
    "b = r\n",
    "```\n",
    "This method is used in the [Find_Public_Key_e](#find-public-key) method to find the GCD of two positive integers. In Find_Public_Key_e the goal is to find an e such that the GCD between it and $(p-1)*(q-1)$, where p and q are primes, is equal to 1. This e can vary and is not restrained by a singular value, as long as $gcd(e, (p-1)*(q-1))=1$, $e \\neq p$ and $e \\neq q$, and $1 < e < lcm(p-1,q-1)$. Interestingly, there are common values of e like 3 and 65537 as mentioned in this [Wikipedia article](https://en.wikipedia.org/wiki/RSA_(cryptosystem)). "
   ]
  },
  {
   "cell_type": "code",
   "execution_count": 14,
   "metadata": {},
   "outputs": [
    {
     "name": "stdout",
     "output_type": "stream",
     "text": [
      "All tests pass!\n"
     ]
    }
   ],
   "source": [
    "#Tests\n",
    "assert Euclidean_Alg(24,12) == 12\n",
    "assert Euclidean_Alg(108,26) == 2\n",
    "assert Euclidean_Alg(17, 131) == 1\n",
    "assert Euclidean_Alg(1.7, 131) == 'a and b must be of integer type to find the greater common divisor: {},{}'.format(1.7,131)\n",
    "assert Euclidean_Alg(None, 131) == 'a and b must be of integer type to find the greater common divisor: {},{}'.format(None,131)\n",
    "assert Euclidean_Alg(-13, 17) == 'A value provided is not positive, all integer values must be positive: {},{}'.format(-13,17)\n",
    "print('All tests pass!')"
   ]
  },
  {
   "cell_type": "markdown",
   "metadata": {},
   "source": [
    "#### Extended Euclidean Algorithm <a name=\"eea-demo\"></a>\n",
    "[Navigate to code](#eea)\n",
    "* When you call the EEA, explain why this is so essential and really the key to RSA process.\n",
    "\n",
    "The Extended Euclidean Algorithm (EEA) calculates the GCD and Bezout coefficients for two positive integers a and b. To find the GCD we implement the same behavior from Eucldiean Algorithm (see above), however, to find the Bezout coefficients we have to understand Bezout's theorem first. Bezout's theorem states: $gcd(m,n) = sm + tn$, where s and t are the Bezout coefficients used to express the $gcd(m,n)$. For instance, to express $gcd(17,131) = 1$, we can use the linear combination, $(54, -7)$ ie the Bezout coefficients $gcd(17,131) = (54)17 + (-7)131 = 1$.\n",
    "\n",
    "What is essential about EEA is that we can use this logic to find the inverse d of e modulo (p-1)(q-1). This value d lets us decrypt messages that are sent to us. Additionally, we could use EEA, instead of  the Euclidean Algorithm in [Find_Public_Key_e](#find-public-key), since EEA returns the GCD as well as the Bezout coefficients. Let's now show how EEA can be used to find the inverse d of e modulo (p-1)(q-1), let's assume e = 3, p = 5, and q = 11, what number satisfies $(3*d)\\,mod\\,40 = 1$? We find $d=27, 81\\,mod\\,40 = 1$, therefore the inverse modulo is 27. Importantly, there is a relationship where the inverse of d modulo (p-1)(q-1) is $s\\,mod\\,(p-1)(q-1)$ meaning to find the inverse modulo of e modulo (p-1)(q-1), we can use $s$ from Bezout coefficients. However, $s$ can be negative we we use increment_by_mod to find the first positive number. So when EEA(3,40), returns (-13,1), -13 is $s$ so we add 40 to get d=27. This method is used in [Find_Private_Key_d](#find-private-key) to get d."
   ]
  },
  {
   "cell_type": "code",
   "execution_count": 15,
   "metadata": {},
   "outputs": [
    {
     "name": "stdout",
     "output_type": "stream",
     "text": [
      "All tests pass!\n"
     ]
    }
   ],
   "source": [
    "# Tests\n",
    "assert EEA(17,131) == (Euclidean_Alg(1,131), (54,-7)) # GCD, Bezout Coefficients\n",
    "assert EEA(3,40) == (Euclidean_Alg(5,11), (-13,1)) # GCD, Bezout Coefficients\n",
    "assert EEA(-1,131) == 'A value provided is not positive, all integer values must be positive: {},{}'.format(-1,131)\n",
    "assert EEA(None,131) == 'a and b must be of integer type: {},{}'.format(None,131)\n",
    "\n",
    "print('All tests pass!')"
   ]
  },
  {
   "cell_type": "markdown",
   "metadata": {},
   "source": [
    "#### Find_Public_Key_e and Find_Private_Key_d <a name=\"keys-demo\"></a>\n",
    "[Navigate to public key code](#find-public-key)\\\n",
    "[Naviaget to private key code](#find-private-key)\n",
    "* Demonstrate and explain how you Generate keys with code and text blocks.\n",
    "\n",
    "To generate public keys we must start with two prime integers p and q from there we need to identify an e that is relatively prime to (p-1)(q-1). To do this we define e as stated in the Euclidean Algorithm demo $1 < e < lcm(p-1, q-1)$, which was found in the [Wikipedia article](#https://en.wikipedia.org/wiki/RSA_(cryptosystem)) about RSA. To find the Least Common Multiple (LCM) we use the formula $\\frac{|ab|}{gcd(a,b)}$, then calculate the e, using p, q and the LCM. In code this looks like,\n",
    "```\n",
    "abs(a*b)/Euclidean_Alg(a, b)\n",
    "```\n",
    "To calculate e we use a while loop, whose exit condition is determined by a bool flag and whether is greater than the LCM. In the while loop, we increment e each time we find that e is not relatively prime to (p-1)(q-1). \n",
    "```\n",
    "if Euclidean_Alg(e, (p-1)*(q-1)) == 1: # if the e is relatively prime, ie gcd is 1 with (p-1)*(q-1)\n",
    "    found_relatively_prime_e = True # then we've found an e\n",
    "else:\n",
    "    e = e + 1 # if the value is not relatively prime then increment\n",
    "```\n",
    "Once we have found the value of e we return it with an n, p*q, which are our public keys (n, e)."
   ]
  },
  {
   "cell_type": "code",
   "execution_count": 16,
   "metadata": {},
   "outputs": [
    {
     "name": "stdout",
     "output_type": "stream",
     "text": [
      "All tests pass!\n"
     ]
    }
   ],
   "source": [
    "# Tests\n",
    "assert Find_Public_Key_e(5,11) == (55, 3)\n",
    "assert Find_Public_Key_e(17,23) == (391, 3)\n",
    "assert Find_Public_Key_e(1049,1061) == (1112989, 3)\n",
    "assert Find_Public_Key_e(131, 61) == (7991, 7)\n",
    "assert Find_Public_Key_e(131, 57) == 'All values provided must be prime {},{}'.format(131,57)\n",
    "assert Find_Public_Key_e(-13, 1) == 'All values provided must be greater than or equal to 2, and prime: {},{}'.format(-13,1)\n",
    "print('All tests pass!')"
   ]
  },
  {
   "cell_type": "markdown",
   "metadata": {},
   "source": [
    "To find the private key, d of n, e, we need to find the inverse d of e modulo (p-1)(q-1). This topic is explored in the EEA section above. We use the [EEA](#eea) method to find our GCD and Bezout Coefficients, extracting the $s$ from $sm + tn$, and increment by the mod until we find a positive number.\n",
    "```\n",
    "gcd, b_coefficients = EEA(e, (p-1)*(q-1)) # find the gcd of e and n, as well as the bezout coefficients\n",
    "d = int(b_coefficients[0]) # in Bezouts theorem, sa + tb, s is d, which is the inverse of e\n",
    "d = increment_by_mod(d, (p-1)*(q-1)) # if d is negative add the mod to it\n",
    "```"
   ]
  },
  {
   "cell_type": "code",
   "execution_count": 17,
   "metadata": {},
   "outputs": [
    {
     "name": "stdout",
     "output_type": "stream",
     "text": [
      "All tests pass!\n"
     ]
    }
   ],
   "source": [
    "# Tests\n",
    "assert Find_Private_Key_d(3, 5, 11) == 27\n",
    "assert Find_Private_Key_d(3, 17,23) == 235\n",
    "assert Find_Private_Key_d(3, 1049,1061) == 740587\n",
    "assert Find_Private_Key_d(7, 131, 61) == 3343\n",
    "assert Find_Private_Key_d(3, 131, 57) == 'All values provided must be prime {},{}'.format(131,57)\n",
    "assert Find_Private_Key_d(3, -13, 1) == 'All values provided must be greater than or equal to 2, and prime: {},{}'.format(-13,1)\n",
    "assert Find_Private_Key_d(-3, 13, 1) == 'e must be a positive integer {}'.format(-3)\n",
    "print('All tests pass!')"
   ]
  },
  {
   "cell_type": "markdown",
   "metadata": {},
   "source": [
    "#### Convert_Text <a name=\"convert-text-demo\"></a>\n",
    "[Navigate to code](#convert-text)\n",
    "\n",
    "This method takes string and converts it into an array numbers based on based on the characters in the string. These are unicode code of the specific character. This method is used in the [Encode](#encode) function."
   ]
  },
  {
   "cell_type": "code",
   "execution_count": 18,
   "metadata": {},
   "outputs": [
    {
     "name": "stdout",
     "output_type": "stream",
     "text": [
      "All tests pass!\n"
     ]
    }
   ],
   "source": [
    "# Tests\n",
    "assert Convert_Text('hello') == [104, 101, 108, 108, 111]\n",
    "assert Convert_Text('wow! there, are special_characters...') == [119, 111, 119, 33, 32, 116, 104, 101, 114, 101, 44, 32, 97, 114, 101, 32, 115, 112, 101, 99, 105, 97, 108, 95, 99, 104, 97, 114, 97, 99, 116, 101, 114, 115, 46, 46, 46]\n",
    "\n",
    "print('All tests pass!')"
   ]
  },
  {
   "cell_type": "markdown",
   "metadata": {},
   "source": [
    "#### Convert_Num <a name=\"convert-num-demo\"></a>\n",
    "[Navigate to code](#convert-num)\n",
    "\n",
    "This method takes a array of unicode codes and converts the unicode to a character then concatenates the characters into a string. This method is used in the [Decode](#decode) function."
   ]
  },
  {
   "cell_type": "code",
   "execution_count": 19,
   "metadata": {},
   "outputs": [
    {
     "name": "stdout",
     "output_type": "stream",
     "text": [
      "All tests pass!\n"
     ]
    }
   ],
   "source": [
    "# Tests\n",
    "assert 'hello' == Convert_Num([104, 101, 108, 108, 111])\n",
    "assert 'wow! there, are special_characters...' == Convert_Num([119, 111, 119, 33, 32, 116, 104, 101, 114, 101, 44, 32, 97, 114, 101, 32, 115, 112, 101, 99, 105, 97, 108, 95, 99, 104, 97, 114, 97, 99, 116, 101, 114, 115, 46, 46, 46])\n",
    "\n",
    "print('All tests pass!')"
   ]
  },
  {
   "cell_type": "markdown",
   "metadata": {},
   "source": [
    "#### Encode <a name=\"encode-demo\"></a>\n",
    "[Navigate to code](#encode)\n",
    "* Demonstrate and explain how you encode a message with code and text blocks.\n",
    "\n",
    "To encode a message we use $C = M^e\\,mod\\,n$ encryption formula from the textbook, Discrete Mathematics and Its Applications 7th Edition, on page 299. In this formula $M$ is the unicode code, as converted by Convert_Text, $e$ is from our Find_Public_Key_e method, n is $p*q$, and $C$ is our encrypted unicode of a specific character. We perform this method per unicode translated character in the string until there are no more characaters. All those encrypted unicodes are appended to an array which is returned by the Encode function which results in our encoded message.\n",
    "```\n",
    "cipher_text.append(FME(code, e, n)) # encrypt the unicode using Fast Modular exponentiation, C = M**e mod n\n",
    "```"
   ]
  },
  {
   "cell_type": "code",
   "execution_count": 20,
   "metadata": {},
   "outputs": [
    {
     "name": "stdout",
     "output_type": "stream",
     "text": [
      "All tests pass!\n"
     ]
    }
   ],
   "source": [
    "# Tests\n",
    "n, e = Find_Public_Key_e(251,5)\n",
    "assert Encode(n, e, 'Hello World!') == [513, 1201, 947, 947, 936, 138, 883, 936, 644, 947, 1020, 797]\n",
    "n, e = Find_Public_Key_e(10009, 103)\n",
    "assert Encode(n, e, 'Hello World!') == [898580, 830663, 509164, 509164, 79736, 564768, 708089, 79736, 553172, 509164, 8100, 991094]\n",
    "n, e = Find_Public_Key_e(11, 10007)\n",
    "assert Encode(n, e, 'Hello World!') == [43017, 39608, 48865, 48865, 46707, 32768, 108118, 46707, 50543, 48865, 9307, 35937]\n",
    "\n",
    "print('All tests pass!')"
   ]
  },
  {
   "cell_type": "markdown",
   "metadata": {},
   "source": [
    "#### Decode <a name=\"decode-demo\"></a>\n",
    "[Navigate to code](#decode)\n",
    "* Demonstrate and explain how you decode the same message with code and text blocks.\n",
    "\n",
    "To decode a message we use $M = C^d\\,mod\\,n$ decrpytion formula from the textbook, Discrete Mathematics and Its Applications 7th Edition, on page 301. In this formula $C$ is the encrypted unicode from an encoded message, $d$ is the inverse d of e modulo $(p−1)(q−1)$ or $s\\,modulo\\,(p-1)(q-1)$, which is calculated by the method Find_Private_Key_d method, n is $p*q$, and $M$ is our decoded unicode of a specific character. We perform this method over all blocks of encrypted messages until there are no more blocks, all those decoded characters are appended to an array which is passed to the Convert_Num method. This method converts all unicode into characters and builds a string to return.\n",
    "```\n",
    "    decrypted_text.append(FME(code, d, n)) # decrypt the unicodes using Fast modular exponentiation, M = C**d mod n\n",
    "    message = Convert_Num(decrypted_text) # convert the decrypted unicodes to a string\n",
    "```\n",
    " \n",
    "If for any reason you have the wrong p,q,e,n or d you might encounter a unicode mismatch. In this case you will have a encoded message that will not properly decode because the formula, $M = C^d\\,mod\\,n$, will output incorrect unicodes because the numbers provided will not convert C to M correctly. For example, let's say you have: \n",
    "```\n",
    "p, q = 59, 5\n",
    "n, e = Find_Public_Key_e(p, q)\n",
    "cipher_text = Encode(n, e, 'Hello World!')\n",
    "```\n",
    "but you find the wrong d, `d = 27`. This will net you an incorrect decode. \n",
    "```\n",
    "Decode(n, d, cipher_text)\n",
    "``` \n",
    "Providing the wrong d means the math for the decoding formula will be incorrect. That means running the above will output an incorrect decoded text. I have included this in the code below in the section `######### Decode Mismatch`.\n"
   ]
  },
  {
   "cell_type": "code",
   "execution_count": 37,
   "metadata": {},
   "outputs": [
    {
     "name": "stdout",
     "output_type": "stream",
     "text": [
      "All tests pass!\n"
     ]
    }
   ],
   "source": [
    "# Tests, using the values from Encode\n",
    "######### 251,5\n",
    "p, q = 251,5\n",
    "n, e = Find_Public_Key_e(p, q)\n",
    "cipher_text = Encode(n, e, 'Hello World!')\n",
    "d = Find_Private_Key_d(e, p, q)\n",
    "assert Decode(n, d, cipher_text) == 'Hello World!'\n",
    "\n",
    "######### 10009, 103\n",
    "p, q = 10009, 103\n",
    "n, e = Find_Public_Key_e(p, q)\n",
    "cipher_text = Encode(n, e, 'Hello World!')\n",
    "d = Find_Private_Key_d(e, p, q)\n",
    "assert Decode(n, d, cipher_text) == 'Hello World!'\n",
    "\n",
    "######### 11, 10007\n",
    "p, q = 11, 10007\n",
    "n, e = Find_Public_Key_e(p, q)\n",
    "cipher_text = Encode(n, e, 'Hello World!')\n",
    "d = Find_Private_Key_d(e, p, q)\n",
    "assert Decode(n, d, cipher_text) == 'Hello World!'\n",
    "\n",
    "######### 10009, 10007\n",
    "p, q = 10009, 10007\n",
    "n, e = Find_Public_Key_e(p, q)\n",
    "cipher_text = Encode(n, e, 'Hello World!')\n",
    "d = Find_Private_Key_d(e, p, q)\n",
    "assert Decode(n, d, cipher_text) == 'Hello World!'\n",
    "\n",
    "######### Decode Mismatch\n",
    "p, q = 59, 5\n",
    "n, e = Find_Public_Key_e(p, q)\n",
    "cipher_text = Encode(n, e, 'Hello World!')\n",
    "d = 27\n",
    "# print(Decode(n, d, cipher_text)) # uncomment this line to see the result, unfortunately this cannot be exported as PDF if printed\n",
    "print('All tests pass!')"
   ]
  },
  {
   "cell_type": "markdown",
   "metadata": {},
   "source": [
    "#### Combine Everything\n",
    "    "
   ]
  },
  {
   "cell_type": "markdown",
   "metadata": {},
   "source": [
    "### 6. Code Exchange Results <a name=\"code-exchange\"></a>\n",
    "\n",
    "Back to [Table of Contents](#toc)\n"
   ]
  },
  {
   "cell_type": "code",
   "execution_count": 22,
   "metadata": {},
   "outputs": [
    {
     "name": "stdout",
     "output_type": "stream",
     "text": [
      "[Elizabeth Stade]: What song best describes the feeling you get when your RSA code is working?\n",
      "[Theodore Matthews]: 'Take on me' by a-ha\n",
      "\n",
      "------------------------------------------------------\n",
      "\n",
      "[Joshua Lindsey]: What is your favorite recipe that I should try to make?\n",
      "[Theodore Matthews]: My favorite recipe right now is the No-Knead Foccia Bread from Bon Apetit \n",
      "https://www.bonappetit.com/recipe/easy-no-knead-focaccia?srsltid=AfmBOorMyzVb3fivWymRWJM3g5h8uBQqAv4jaJsFRkO9S3gWVnfEUJx7\n",
      "\n",
      "------------------------------------------------------\n",
      "\n",
      "[Theodore Matthews]: Has anyone had luck encrypting/decrypting emojis or other UTF-8 character sets? Whats your favorite emoji?\n",
      "[Elizabeth Stade]: Great work Theodore - please double check your first message to me about the song!\n",
      "[Theodore Matthews]: Whoops, thank you for identifying that! I must've copied the decoded letters instead of the encrypted message. I was doubling checking my work but going too fast!\n"
     ]
    }
   ],
   "source": [
    "##### EXAMPLE 1 #####\n",
    "#Elizabeth Stade\n",
    "n,e = 5251, 3        #Public key\n",
    "n,d = 5251, 3403     #Private key\n",
    "\n",
    "main_message = [2128, 1150, 4250, 1349, 1262, 3336, 2371, 2497, 519, 1262, 1263, 1105, 3336, 1349, 1262, 2310, 1105, 3336, 4115, 762, 2405, 1263, 1105, 3336, 1262, 1349, 1150, 1105, 1262, 506, 1105, 1105, 4723, 2405, 2497, 519, 1262, 1974, 2371, 58, 1262, 519, 1105, 1349, 1262, 4839, 1150, 1105, 2497, 1262, 1974, 2371, 58, 762, 1262, 13, 4679, 1573, 1262, 4115, 2371, 2310, 1105, 1262, 2405, 3336, 1262, 4839, 2371, 762, 1560, 2405, 2497, 519, 3250]\n",
    "response_message = [1558, 4592, 4250, 1560, 1105, 1262, 2371, 2497, 1262, 3283, 1105, 1558, 1262, 1263, 1974, 1262, 4250, 1858, 1150, 4250]\n",
    "print('[Elizabeth Stade]: {}'.format(Decode(n,d,main_message)))\n",
    "print('[Theodore Matthews]: {}'.format(Decode(n,d,response_message)))\n",
    "print('\\n------------------------------------------------------\\n')\n",
    "\n",
    "##### EXAMPLE 2 #####\n",
    "#Joshua Lindsey \n",
    "n,e = 2077, 7         #Public key\n",
    "n,d = 2077, 283      #Private key\n",
    "\n",
    "main_message = [242, 1377, 1504, 1982, 63, 1512, 1726, 63, 1874, 1993, 1956, 1902, 63, 1746, 1504, 1451, 1993, 1902, 1512, 1982, 1552, 63, 1902, 1552, 130, 1512, 1929, 1552, 63, 1982, 1377, 1504, 1982, 63, 881, 63, 1726, 1377, 1993, 1956, 1821, 927, 63, 1982, 1902, 1874, 63, 1982, 1993, 63, 1465, 1504, 1228, 1552, 1706]\n",
    "response_message = [116, 1874, 63, 1746, 1504, 1451, 1993, 1902, 1512, 1982, 1552, 63, 1902, 1552, 130, 1512, 1929, 1552, 63, 1902, 1512, 1105, 1377, 1982, 63, 1717, 1993, 1948, 63, 1512, 1726, 63, 1982, 1377, 1552, 63, 690, 1993, 1259, 1727, 1717, 1552, 1504, 927, 63, 1986, 1993, 130, 130, 1512, 1504, 63, 1473, 1902, 1552, 1504, 927, 63, 1746, 1902, 1993, 1465, 63, 1473, 1993, 1717, 63, 1815, 1929, 1552, 1982, 1512, 1982, 63, 1322, 1377, 1982, 1982, 1929, 1726, 697, 1031, 1031, 1948, 1948, 1948, 1573, 1307, 1993, 1717, 1504, 1929, 1929, 1552, 1982, 1512, 1982, 1573, 130, 1993, 1465, 1031, 1902, 1552, 130, 1512, 1929, 1552, 1031, 1552, 1504, 1726, 1874, 1259, 1717, 1993, 1259, 1228, 1717, 1552, 1504, 927, 1259, 1746, 1993, 130, 1504, 130, 130, 1512, 1504, 1706, 1726, 1902, 1726, 1821, 1982, 1512, 927, 526, 1815, 1746, 1465, 1473, 74, 1993, 1902, 116, 1874, 864, 1088, 1307, 111, 1746, 1512, 1451, 242, 1874, 1465, 1134, 242, 582, 116, 111, 1105, 1013, 1377, 583, 1956, 1473, 193, 1506, 1815, 1451, 1747, 890, 1504, 582, 1726, 1986, 1134, 1228, 74, 956, 693, 111, 1105, 242, 1088, 1717, 1746, 865, 1703, 582, 1348, 127]\n",
    "print('[Joshua Lindsey]: {}'.format(Decode(n,d,main_message)))\n",
    "print('[Theodore Matthews]: {}'.format(Decode(n,d,response_message)))\n",
    "print('\\n------------------------------------------------------\\n')\n",
    "\n",
    "##### EXAMPLE 3 #####\n",
    "#Theodore Matthews & Elizabeth Stade\n",
    "n,e = 799, 15   #public key\n",
    "n,d = 799, 687  #private key\n",
    "\n",
    "main_message = [506, 418, 361, 722, 418, 780, 298, 529, 780, 50, 722, 604, 418, 331, 722, 309, 637, 793, 738, 722, 50, 780, 793, 78, 298, 131, 11, 278, 780, 307, 752, 331, 50, 793, 78, 298, 131, 11, 278, 780, 307, 722, 50, 124, 529, 676, 278, 361, 722, 529, 78, 722, 529, 11, 604, 50, 78, 722, 680, 101, 26, 320, 636, 722, 793, 604, 418, 78, 418, 793, 11, 50, 78, 722, 361, 50, 11, 361, 639, 722, 655, 604, 418, 11, 361, 722, 298, 529, 637, 78, 722, 306, 418, 679, 529, 78, 278, 11, 50, 722, 50, 124, 529, 676, 278, 639]\n",
    "response_message = [397, 78, 50, 418, 11, 722, 459, 529, 78, 738, 722, 101, 604, 50, 529, 331, 529, 78, 50, 722, 320, 722, 131, 309, 50, 418, 361, 50, 722, 331, 529, 637, 786, 309, 50, 722, 793, 604, 50, 793, 738, 722, 298, 529, 637, 78, 722, 306, 278, 78, 361, 11, 722, 124, 50, 361, 361, 418, 307, 50, 722, 11, 529, 722, 124, 50, 722, 418, 786, 529, 637, 11, 722, 11, 604, 50, 722, 361, 529, 780, 307, 67]\n",
    "last_response_message = [655, 604, 529, 529, 131, 361, 522, 722, 11, 604, 418, 780, 738, 722, 298, 529, 637, 722, 306, 529, 78, 722, 278, 331, 50, 780, 11, 278, 306, 298, 278, 780, 307, 722, 11, 604, 418, 11, 67, 722, 109, 722, 124, 637, 361, 11, 211, 679, 50, 722, 793, 529, 131, 278, 50, 331, 722, 11, 604, 50, 722, 331, 50, 793, 529, 331, 50, 331, 722, 309, 50, 11, 11, 50, 78, 361, 722, 278, 780, 361, 11, 50, 418, 331, 722, 529, 306, 722, 11, 604, 50, 722, 50, 780, 793, 78, 298, 131, 11, 50, 331, 722, 124, 50, 361, 361, 418, 307, 50, 469, 722, 109, 722, 459, 418, 361, 722, 331, 529, 637, 786, 309, 278, 780, 307, 722, 793, 604, 50, 793, 738, 278, 780, 307, 722, 124, 298, 722, 459, 529, 78, 738, 722, 786, 637, 11, 722, 307, 529, 278, 780, 307, 722, 11, 529, 529, 722, 306, 418, 361, 11, 67]\n",
    "print('[Theodore Matthews]: {}'.format(Decode(n,d,main_message)))\n",
    "print('[Elizabeth Stade]: {}'.format(Decode(n,d,response_message)))\n",
    "print('[Theodore Matthews]: {}'.format(Decode(n,d,last_response_message)))"
   ]
  },
  {
   "cell_type": "markdown",
   "metadata": {
    "jp-MarkdownHeadingCollapsed": true,
    "tags": []
   },
   "source": [
    "### 7. Write a Narrative <a name=\"narrative\"></a>\n",
    "\n",
    "Back to [Table of Contents](#toc)\n",
    "    \n",
    "#### My approach\n",
    "What is RSA? As a software engineer, I've heard about RSA countless times. I even created an RSA hex key for a Salesforce organization to authorize a connection between our continuous integration software. However, I didn't fully understand the underlying concepts; I simply followed the steps. This reflects my journey as a self-taught software engineer, where I often find it challenging to deeply explore topics or grasp their significance. During this project, I finally had the opportunity to answer my questions and implement what I learned about RSA.\n",
    "\n",
    "Balancing a full-time job while attending school can feel like burning the candle at both ends. To manage this challenge, I avoid thinking about everything at once, as it can become overwhelming. Instead, I prefer to take one step at a time. This mindset is how I approached the RSA project.\n",
    "\n",
    "#### Base 2\n",
    "My first hurdle was converting a binary string. Although this wasn't essential for my work with RSA, I found it challenging to understand. I decided to break it down into smaller steps, which made it easier to grasp. I started by taking the modulo 2 of the integer to determine the value of the least significant bit. At first, I didn't understand why this method worked, so I took a closer look at the process. For example, when I calculate 20 % 2, the result is 0. I then divide 20 by 2, which gives me 10, and again perform 10 % 2 results in 0. But why does this happen? To clarify, let's consider the binary expansion of 20.\n",
    "\n",
    "| Binary Expansion  |\n",
    "|-----------------|\n",
    "| 20 = 2 * 10 + 0 |\n",
    "| 10 = 2 * 5  + 0 |\n",
    "| 5  = 2 * 2  + 1 |\n",
    "| 2  = 2 * 1  + 0 |\n",
    "| 1  = 2 * 0  + 1 |\n",
    "    \n",
    "The binary system is based on base 2, so we take the modulo 2 of that number. As we see two lines down, the number is then divided by 2. This is because binary uses base 2, which is why we divide by 2! It all makes sense now. This is generally how I tackle challenging questions: If it can be explained with math, then great! If not, I turn to the book. If it’s not in the book, I look online at reputable sources and make sure to cite them if I use them.\n",
    "\n",
    "#### e\n",
    "The most challenging part of this project was identifying the value of e. The book defines e as an integer that is relatively prime to (p-1)*(q-1). Being relatively prime means that the greatest common divisor (gcd) between two numbers is 1. So we need to find $gcd(e, (p-1)*(q-1))$. In many cases, there are multiple values of e that satisfy this condition, which can be confusing. How can there be multiple options? Which one should I use? Is there a specific range? How can I tell if I have chosen incorrectly?\n",
    "\n",
    "I searched the textbook for answers but couldn't find a definitive explanation. Eventually, I turned to Wikipedia’s article on RSA, which mentioned that $1 < e < λ(n)$, where is $λ(n) = lcm(p − 1, q − 1)$. Therefore e must be $1 < e < lcm(p - 1, q - 1)$.  I also attempted to read about the Carmichael function but felt overwhelmed. I couldn't understand why the least common multiple was used as the upper limit. However, this gave me a boundary to work within. Looking back at the book “find an e relatively prime to (p-1)*(q-1)”, find being the imperative word. It is clear, choose an e that works. Using a cooking metaphor, e is like a recipe, there are many you can choose from, but you must choose which one is right based on the ingredients you have in your kitchen.\n",
    "\n",
    "#### ϖµSSғѶϾғЙSПʵ, Hello World!\n",
    "Exchanging codes was a great way to test my code to ensure my encoding and decoding methods were working. In my initial attempt to verify my logic, I input the public keys n and e into my Find_Private_Key_d method. However, the result did not match other students' private keys, I noticed that my d value was negative. This reminded me of a quiz we had taken a week prior, which included a question about whether we should add the modulo if the inverse is negative. The answer was yes, so I wrote a helper method increment_by_mod which fixed the issue. I also wanted to exchange an encrypted emoji message with students but continued to get Unicode mismatches, which when this happens can look like ϖµSSғѶϾғЙSПʵ or any form of the like. With fortitude in heart, I did some research and discovered our RSA solution does not support UTF-8, which is [required for emojis](#https://stackoverflow.com/questions/47716217/converting-emojis-to-unicode-and-vice-versa-in-python-3).\n",
    "\n",
    "#### Tools\n",
    "Working on my RSA project I found the lectures, textbooks, and online resources like Wikipedia to be the most helpful. While I think it could have been helpful, going to office hours would have been nice to better understand the structure of the project and what is expected for the demo. I decided to add test cases as a demonstration of the methods working with a written walkthrough.\n",
    "\n",
    "#### Whoops!\n",
    "When learning something for the first time we make mistakes. My mistake was posting a follow-up to an encrypted message that was the decoded unicode array of characters. This meant I was not responding via encrypted message! Professor Stade caught my mistake and I was able to correct it.\n",
    "\n",
    "#### Custom Project\n",
    "For my custom project I decided to build a main function that takes user input to RSA methods. The goal was to implement self-checks for valid user inputs using math and data validation. I accomplish this in some methods like set_custom_primes, get_custom_n, and get_custom_e. In these methods I ask the user for specific inputs and validate against the known rules that apply for each. For instance, set_custom_n factorizes the value n to find p and q. If p or q are not prime then I ask the user to reinput a value n that is a multiple of two primes.\n",
    "\n",
    "\n",
    "\n"
   ]
  },
  {
   "cell_type": "markdown",
   "metadata": {
    "tags": []
   },
   "source": [
    "### 8. How to Break Code. (10 points) <a name=\"code-breaking\"></a>\n",
    "\n",
    "Back to [Table of Contents](#toc)"
   ]
  },
  {
   "cell_type": "code",
   "execution_count": 23,
   "metadata": {},
   "outputs": [],
   "source": [
    "def factorize(n):\n",
    "    \"\"\"\n",
    "    @description gets the number i that factors into n\n",
    "    @return integer i that factors into n, or False if it does not factor into n\n",
    "    \"\"\"\n",
    "    for i in range(2, n): # for all values between 2 and n-1\n",
    "        if n % i == 0: # does the number factor into n\n",
    "            return i # return it\n",
    "    return False"
   ]
  },
  {
   "cell_type": "markdown",
   "metadata": {},
   "source": [
    "To break a public key n,e, we must find the two primes used to get n. $n=p*q$, where $p$ and $q$ are primes, to find these primes we start by factorizing the given $n$, we know that all n's are found using two primes. We do this because the fundamental theorem of arithmetic states every positive integer can be written uniquely as the produce of primes, which means by using the factorize method written above we can find our first prime. We'll assume some $n = 1159$"
   ]
  },
  {
   "cell_type": "code",
   "execution_count": 24,
   "metadata": {},
   "outputs": [
    {
     "name": "stdout",
     "output_type": "stream",
     "text": [
      "p = 19\n"
     ]
    }
   ],
   "source": [
    "print('p = {}'.format(factorize(1159)))"
   ]
  },
  {
   "cell_type": "markdown",
   "metadata": {},
   "source": [
    "We find that our first prime $p = 19$. Because we know $p$, we can find $q$, using algebra $q = \\frac{n}{p}$. Now substitute our $n$ and $p$, $q = \\frac{1159}{19}$, we get $q = 61$. Now that we have our two primes, $p = 19$ and $q = 61$, we can use p and q and the public key $e$ to find the inverse d of e modulo (p-1)(q-1). By finding d we can call the Decode method which uses the formula $M = C^d\\,mod\\,n$ to decrypt each character in the encrypted text we want to break. Let us start by finding the $d$ for $e = 7$ and our two primes that we've found from $n$."
   ]
  },
  {
   "cell_type": "code",
   "execution_count": 25,
   "metadata": {},
   "outputs": [
    {
     "name": "stdout",
     "output_type": "stream",
     "text": [
      "d = 463\n"
     ]
    }
   ],
   "source": [
    "print('d = {}'.format(Find_Private_Key_d(7, 19, 61)))"
   ]
  },
  {
   "cell_type": "markdown",
   "metadata": {},
   "source": [
    "Now that we've found our $d$, we can use it decode some encrypted message. Let us use the Decode method where $d=463$ and $n=1159$ with some encrypted message."
   ]
  },
  {
   "cell_type": "code",
   "execution_count": 26,
   "metadata": {},
   "outputs": [
    {
     "data": {
      "text/plain": [
       "'Hello World!'"
      ]
     },
     "execution_count": 26,
     "metadata": {},
     "output_type": "execute_result"
    }
   ],
   "source": [
    "encrypted_msg = [355, 997, 352, 352, 682, 29, 505, 682, 760, 352, 1042, 953]\n",
    "Decode(1159, 463, encrypted_msg)"
   ]
  },
  {
   "cell_type": "markdown",
   "metadata": {},
   "source": [
    "We've now decoded our encrypted message, which is 'Hello World!'.\n",
    "\n",
    "Now let's try brute forcing a larger value $n = 117630860783701$, $e = 13$. To simplify the brute-force approach I've written a method `break_code(n,e,message)`, which takes a integers n and e from the public key as well as the encrypted message. It uses the factorize method to find our $p$, then we can divide n by q to get our q as stated in the block above $q = \\frac{n}{p}$. These values can be passed as parameters to our Find_Private_Key_d to get our d integer. Finally, we pass n, d and the encrypted message to our Decode method to return a string value for the public keys provided."
   ]
  },
  {
   "cell_type": "code",
   "execution_count": 27,
   "metadata": {},
   "outputs": [],
   "source": [
    "def break_code(n, e, message):\n",
    "    \"\"\"\n",
    "    @description method used to decode a cipher text provided we have the n and e public keys\n",
    "    @param n integer, p * q, multiple of two primes\n",
    "    @param e integer, which is relatively prime of (p-1)(q-1) gcd(e, (p-1)(q-1)) == 1\n",
    "    @param message, array of encrypted characters\n",
    "    \"\"\"\n",
    "    p = factorize(n)\n",
    "    d = Find_Private_Key_d(e, p, int(n/p))\n",
    "    return Decode(n, d, message)"
   ]
  },
  {
   "cell_type": "code",
   "execution_count": 28,
   "metadata": {
    "tags": []
   },
   "outputs": [
    {
     "name": "stdout",
     "output_type": "stream",
     "text": [
      "Execution time in seconds: 3.1539509296417236\n"
     ]
    }
   ],
   "source": [
    "import time\n",
    "n,e = 117630860783701, 13 # I am using 15 digit long integer to avoid hang ups when running the code\n",
    "\n",
    "start = time.time()\n",
    "break_code(n,e, [21389363877735, 23560688202282, 88655796672778, 88655796672778, 15302594212911, 97863801472695, 105209934328534, 15302594212911, 98288986455700, 88655796672778, 20650605886947, 50816729319906])\n",
    "stop = time.time()\n",
    "\n",
    "print('Execution time in seconds: {}'.format(stop - start))"
   ]
  },
  {
   "cell_type": "markdown",
   "metadata": {},
   "source": [
    "What we can when n becomes 15-20 digits long is that the factorization slows down considerably. Although constructing large primes is easy, finding the factors of them is very difficult for modern computers. What makes RSA secure is the public key n length is usually over 200 digits, which is regarded as sufficient however in 2020 the largest publicly known factors RSA number had 250 digits [Wikipedia article](#https://en.wikipedia.org/wiki/RSA_(cryptosystem). However when talking about n is RSA we normally describe 2048-4096 bit sized numbers, 4096 being the most secure size [Wikipedia article](#https://en.wikipedia.org/wiki/RSA_(cryptosystem). These hundreds of digit long numbers take an extremely long time to factorize where the fastest algorithm has a complexity of 2<sup>number of bits in $n$</sup>, which if we using 4096 bit 2<sup>4096</sup> is a massive amount of bits. In fact there is no polynomial algorithms (eg O(n), O(n<sup>2</sup>)) that exists for factorization.\n",
    "\n",
    "For our implementation of RSA is not very secure. We've only tested our RSA with smaller n values and data that has been shared between many users. Although in concept our RSA can be secure we have not built a systems that check for bit length or reused public keys. For instance, we are manually inputing small primes p, q which create n's which are no bigger than 50-100 bits. We should be enforcing primes that construct a number $n$ that is $2048 \\leq n \\leq 4096$ bits. Without this enforcement are not following best practices and are at risk of decryption. In addition, we should not use the same p's and q's when encrypting, we should always use unique primes so if the encryption is ever broken it can not be done to another message that we encrypt. Also our p and q should not equal each other, there does not look to be an instance where we check this condition. In addition, for small p and q there seems to be an issue with encoding and decoding. For example with 5, 11 when encoding 'Hello World!' I get back a bunch of special characters, a non-decoded version of 'Hello World! which can be seen below."
   ]
  },
  {
   "cell_type": "code",
   "execution_count": 35,
   "metadata": {},
   "outputs": [
    {
     "name": "stdout",
     "output_type": "stream",
     "text": [
      "Message: Hello World!\n",
      "Cipher Text: [18, 41, 47, 47, 1, 43, 43, 1, 9, 47, 45, 22]\n"
     ]
    }
   ],
   "source": [
    "p,q = 5,11\n",
    "n,e = Find_Public_Key_e(p,q)\n",
    "d = Find_Private_Key_d(e,p,q)\n",
    "message = 'Hello World!'\n",
    "cipher_text = Encode(n,e,message)\n",
    "decoded_text = Decode(n,d,cipher_text)\n",
    "print('Message: {}'.format(message))\n",
    "print('Cipher Text: {}'.format(cipher_text))\n",
    "#print('Decoded Text: {}'.format(decoded_text))#### Did not allow me to download as PDF if ran"
   ]
  },
  {
   "cell_type": "markdown",
   "metadata": {
    "tags": []
   },
   "source": [
    "### 9. Code Breaking: Complete Examples <a name=\"code-breaking-examples\"></a>\n",
    "\n",
    "Back to [Table of Contents](#toc)\n",
    "\n",
    "To break codes, we'll start with this post from Elizabeth Stade, which gives us:"
   ]
  },
  {
   "cell_type": "code",
   "execution_count": 30,
   "metadata": {},
   "outputs": [],
   "source": [
    "n, e = 703, 113  #Public Key\n",
    "Cipher = [544, 472, 233, 242, 250, 555, 591, 550, 376, 364, 210, 165, 526, 47, 555, 95, 476, 210, 242, 165, 95, 233, 526, 210, 376, 95, 233, 242, 364, 210, 242, 224, 376, 95, 364, 233, 47, 242, 210, 555, 376, 165, 472, 242, 555, 410, 242, 250, 95, 233, 233, 47, 145]"
   ]
  },
  {
   "cell_type": "markdown",
   "metadata": {},
   "source": [
    "We'll use these values and our break_code method to decode the message."
   ]
  },
  {
   "cell_type": "code",
   "execution_count": 31,
   "metadata": {},
   "outputs": [
    {
     "data": {
      "text/plain": [
       "\"The Conquistador's treasure is buried south of Creed.\""
      ]
     },
     "execution_count": 31,
     "metadata": {},
     "output_type": "execute_result"
    }
   ],
   "source": [
    "break_code(n, e, Cipher)"
   ]
  },
  {
   "cell_type": "markdown",
   "metadata": {},
   "source": [
    "As explained in the [Code Break](#code-breaking) section above we use factorize to find a prime p, a prime q by dividing n by p, and d using the Find_Private_Key_d method. This is all then passed to Decode with the encrypted message."
   ]
  },
  {
   "cell_type": "code",
   "execution_count": 32,
   "metadata": {},
   "outputs": [],
   "source": [
    "p = factorize(n)\n",
    "d = Find_Private_Key_d(e, p, int(n/p))\n",
    "assert Decode(n, d, Cipher) == \"The Conquistador's treasure is buried south of Creed.\""
   ]
  },
  {
   "cell_type": "markdown",
   "metadata": {},
   "source": [
    "Here are three examples of just public keys and cipher text as well as my responses to them."
   ]
  },
  {
   "cell_type": "code",
   "execution_count": 33,
   "metadata": {},
   "outputs": [
    {
     "name": "stdout",
     "output_type": "stream",
     "text": [
      "[Cipher Message]: The best thing about a Boolean is even if you are wrong, you are only off by a bit.\n",
      "[Response Message]: Why did the programmer quit their job? Because they didnt get arrays!\n",
      "\n",
      "--------------------------------------------------------\n",
      "\n",
      "[Cipher Message]: How much wood would a woodchuck chuck if a woodchuck could chuck wood?\n",
      "[Response Message]: It depends, is it a Marmot, Beaver or Gopher?\n",
      "\n",
      "--------------------------------------------------------\n",
      "\n",
      "[Cipher Message]: This message was encrypted with two two digit primes, and can be factoed instantly.\n",
      "[Response Message]: Wow! Great work thanks for a simple factoring solution.\n"
     ]
    }
   ],
   "source": [
    "######## EXAMPLE 1\n",
    "#Elisabeth stade\n",
    "n, e = 130177, 13      #Public Key\n",
    "main_msg = [85308, 48594, 15927, 71285, 61037, 15927, 767, 23406, 71285, 23406, 48594, 12676, 37298, 100459, 71285, 90170, 61037, 38946, 38783, 23406, 71285, 90170, 71285, 113492, 38946, 38946, 86792, 15927, 90170, 37298, 71285, 12676, 767, 71285, 15927, 121493, 15927, 37298, 71285, 12676, 84628, 71285, 29228, 38946, 38783, 71285, 90170, 110238, 15927, 71285, 81798, 110238, 38946, 37298, 100459, 126494, 71285, 29228, 38946, 38783, 71285, 90170, 110238, 15927, 71285, 38946, 37298, 86792, 29228, 71285, 38946, 84628, 84628, 71285, 61037, 29228, 71285, 90170, 71285, 61037, 12676, 23406, 10510]\n",
    "response_msg = [28734, 48594, 29228, 71285, 38831, 12676, 38831, 71285, 23406, 48594, 15927, 71285, 114803, 110238, 38946, 100459, 110238, 90170, 75888, 75888, 15927, 110238, 71285, 36860, 38783, 12676, 23406, 71285, 23406, 48594, 15927, 12676, 110238, 71285, 30634, 38946, 61037, 74527, 71285, 113492, 15927, 5530, 90170, 38783, 767, 15927, 71285, 23406, 48594, 15927, 29228, 71285, 38831, 12676, 38831, 37298, 23406, 71285, 100459, 15927, 23406, 71285, 90170, 110238, 110238, 90170, 29228, 767, 124788]\n",
    "print('[Cipher Message]: {}'.format(break_code(n,e,main_msg)))\n",
    "print('[Response Message]: {}'.format(break_code(n,e,response_msg)))\n",
    "print('\\n--------------------------------------------------------\\n')\n",
    "\n",
    "######## EXAMPLE 2\n",
    "#Hannah Pfeifer\n",
    "n,e =  48791, 83  #Public key\n",
    "main_msg = [48400, 35928, 12879, 37993, 12980, 31964, 8816, 36592, 37993, 12879, 35928, 35928, 7929, 37993, 12879, 35928, 31964, 41421, 7929, 37993, 6402, 37993, 12879, 35928, 35928, 7929, 8816, 36592, 31964, 8816, 29792, 37993, 8816, 36592, 31964, 8816, 29792, 37993, 47654, 41506, 37993, 6402, 37993, 12879, 35928, 35928, 7929, 8816, 36592, 31964, 8816, 29792, 37993, 8816, 35928, 31964, 41421, 7929, 37993, 8816, 36592, 31964, 8816, 29792, 37993, 12879, 35928, 35928, 7929, 8555]\n",
    "response_msg = [4555, 36015, 37993, 7929, 13798, 37207, 13798, 9435, 7929, 33186, 42437, 37993, 47654, 33186, 37993, 47654, 36015, 37993, 6402, 37993, 32056, 6402, 8864, 12980, 35928, 36015, 42437, 37993, 43327, 13798, 6402, 44336, 13798, 8864, 37993, 35928, 8864, 37993, 15612, 35928, 37207, 36592, 13798, 8864, 8555]\n",
    "print('[Cipher Message]: {}'.format(break_code(n,e,main_msg)))\n",
    "print('[Response Message]: {}'.format(break_code(n,e,response_msg)))\n",
    "print('\\n--------------------------------------------------------\\n')\n",
    "\n",
    "######## EXAMPLE 3\n",
    "#Brad Dhillon\n",
    "n,e=1633,337 #PublicKey\n",
    "main_msg = [1483, 177, 1596, 575, 671, 1101, 740, 575, 575, 523, 1594, 740, 671, 261, 523, 575, 671, 740, 1317, 1063, 712, 578, 964, 116, 740, 1139, 671, 261, 1596, 116, 177, 671, 116, 261, 1142, 671, 116, 261, 1142, 671, 1139, 1596, 1594, 1596, 116, 671, 964, 712, 1596, 1101, 740, 575, 930, 671, 523, 1317, 1139, 671, 1063, 523, 1317, 671, 348, 740, 671, 704, 523, 1063, 116, 1142, 740, 1139, 671, 1596, 1317, 575, 116, 523, 1317, 116, 179, 578, 1150]\n",
    "response_msg = [1432, 1142, 261, 106, 671, 1278, 712, 740, 523, 116, 671, 261, 1142, 712, 1092, 671, 116, 177, 523, 1317, 1092, 575, 671, 704, 1142, 712, 671, 523, 671, 575, 1596, 1101, 964, 179, 740, 671, 704, 523, 1063, 116, 1142, 712, 1596, 1317, 1594, 671, 575, 1142, 179, 795, 116, 1596, 1142, 1317, 1150]\n",
    "print('[Cipher Message]: {}'.format(break_code(n,e,main_msg)))\n",
    "print('[Response Message]: {}'.format(break_code(n,e,response_msg)))"
   ]
  },
  {
   "cell_type": "markdown",
   "metadata": {},
   "source": [
    "\n",
    "### 10. Custom CODE Feature <a name=\"custom-code\"></a>\n",
    "\n",
    "Back to [Table of Contents](#toc)\n"
   ]
  },
  {
   "cell_type": "markdown",
   "metadata": {},
   "source": [
    "#### Choose Your Own RSA Adventure\n",
    "\n",
    "Below is the program to choose your own RSA adventure. In it I allow the user to Find Public Keys, Find Private Keys, Encode Messages, Decode Messages, and Break Codes. What I wanted to accomplish was a program that provided a lot of self-checks by doing the math to ensure what the user is providing is valid input. For instance, set_custom_primes gets numbers from the user but checks whether they are primes before setting the values to p and q. get_custom_n permits the user to enter an n value but checks whether that n is a multiple of two primes, if it is we ask for a new value. get_custom_e does something similar where given p and q is the e the user is providing relatively prime to (p-1)*(q-1). Along with math validation, I wanted to ensure a smooth process no matter the option the user chose. Therefore I check whether values are missing before calling a method. For instance, in options 2,3, and 4 I call setup methods to ensure the user has set all appropriate values before calling Encode or Decode. Overall, I hope this was more than the typical choose your own adventure type project by providing data validation and method prechecks. Something I could have done better is input valid with empty strings, non-integer strings, and special characters."
   ]
  },
  {
   "cell_type": "code",
   "execution_count": 34,
   "metadata": {},
   "outputs": [
    {
     "name": "stdout",
     "output_type": "stream",
     "text": [
      "\n",
      "Enter...(1, 2, 3, 4, 5, Q)\n",
      "[1]: Find Public Keys n, e\n",
      "[2]: Find Private Key d\n",
      "[3]: Encode Message\n",
      "[4]: Decode Message\n",
      "[5]: Break Code\n",
      "[Q]: Exit Program\n",
      "\n",
      " Q\n"
     ]
    },
    {
     "name": "stdout",
     "output_type": "stream",
     "text": [
      "Exiting RSA Program...\n"
     ]
    }
   ],
   "source": [
    "# import the random module to grab random primes from a list\n",
    "import random\n",
    "\n",
    "prime_list = []\n",
    "main_prompt = '''\n",
    "Enter...(1, 2, 3, 4, 5, Q)\n",
    "[1]: Find Public Keys n, e\n",
    "[2]: Find Private Key d\n",
    "[3]: Encode Message\n",
    "[4]: Decode Message\n",
    "[5]: Break Code\n",
    "[Q]: Exit Program\\n\n",
    "'''\n",
    "main_prompt_inputs = ['1','2','3','4','5','Q']\n",
    "choose_primes_inputs = ['C','R']\n",
    "choose_public_keys_inputs = ['C','N']\n",
    "primes_prompt = 'Do you want custom or random primes? Enter...(C, R)'\n",
    "\n",
    "############ HELPER METHODS #################\n",
    "\n",
    "def get_list_of_primes():\n",
    "    \"\"\"\n",
    "    @description generate a list of all primes between 2 and 9999\n",
    "    @return a set of primes\n",
    "    \"\"\"\n",
    "    for i in range(2, 9999):\n",
    "        is_prime = True\n",
    "        for j in range(2, i+1): # check over all numbers between 2 and itself\n",
    "            if i != j and i % j == 0: # if the number is divisible and not equal to itself then its not a prime\n",
    "                is_prime = False\n",
    "                break\n",
    "        if is_prime: #its a prime add it to the list\n",
    "            prime_list.append(i)\n",
    "            \n",
    "def is_prime(num):\n",
    "    \"\"\"\n",
    "    @description Helper method to identify if the number provided is a prime number\n",
    "    @param num, integer\n",
    "    @return bool\n",
    "    \"\"\"\n",
    "    if num < 2:\n",
    "        return False\n",
    "    for i in range(2, num): # all numbers in range of primes to num\n",
    "        if num != i and num % i == 0: # as we loop through all numbers from 2 to num, if any of them are divisors of num then num is not a prime\n",
    "            return False\n",
    "    return True\n",
    "            \n",
    "def check_input_valid(valid_inputs, user_input):\n",
    "    \"\"\"\n",
    "    @description is the user_input is not included in the valid inputs then return False, else True\n",
    "    @param valid_inputs, list of valid input\n",
    "    @param user_input, a user input\n",
    "    @return True/False depending on whether the input is in the list\n",
    "    \"\"\"\n",
    "    if user_input in valid_inputs:\n",
    "        return True\n",
    "    return False\n",
    "\n",
    "def set_custom_primes(chosen_primes):\n",
    "    \"\"\"\n",
    "    @description get a set of primes from the user\n",
    "    @param chosen_primes, an empty list to be appended to\n",
    "    \"\"\"\n",
    "    while len(chosen_primes) < 2: #while the user has not provided 2 primes\n",
    "        user_input = int(input('Please provide a prime number: '))\n",
    "        is_num_prime = is_prime(user_input)\n",
    "        if is_num_prime: # if the number is prime add it to the list\n",
    "            chosen_primes.append(user_input)\n",
    "        else:\n",
    "            print('{} is not prime. Please enter a prime number'.format(user_input))\n",
    "\n",
    "def get_primes_p_q():\n",
    "    \"\"\"\n",
    "    @description gets the p and q from the user or randomly defines those p and q from the global variable prime_list\n",
    "    @return p and q,  either custom or random\n",
    "    \"\"\"\n",
    "    is_valid_input = False\n",
    "    while not is_valid_input:\n",
    "        user_input = input(primes_prompt)\n",
    "        is_valid_input = check_input_valid(choose_primes_inputs, user_input)\n",
    "        if not is_valid_input:\n",
    "            print('Not a valid input...')\n",
    "            continue\n",
    "        chosen_primes = []\n",
    "        if user_input == 'C': # if the user inputs C, have them input their own prime numbers\n",
    "            set_custom_primes(chosen_primes)\n",
    "        elif user_input == 'R': # if the user inputs R, have the computer get two primes numbers\n",
    "            chosen_primes = random.choices(prime_list, k=2) # get two prime numbers\n",
    "        return chosen_primes[0], chosen_primes[1]\n",
    "    \n",
    "def increment_by_mod(num, mod):\n",
    "    \"\"\"\n",
    "    @description Helper method to incrementally add the mod to a num if it is negative\n",
    "    @param num, integer to increment\n",
    "    @param mod, the modulus \n",
    "    \"\"\"\n",
    "    while num < 0: # while the num is negative\n",
    "        num = num + mod # increment it by the mod\n",
    "    return num\n",
    "\n",
    "def calc_lcm(a, b):\n",
    "    \"\"\"\n",
    "    @description calculate and return the least common multiple for two integers a and b\n",
    "    @param a integer\n",
    "    @param b integer\n",
    "    @return integer least common multiple of a and b\n",
    "    \"\"\"\n",
    "    #equation to find lcm(a,b)\n",
    "    return abs(a*b)/Euclidean_Alg(a, b) # https://en.wikipedia.org/wiki/RSA_(cryptosystem)\n",
    "\n",
    "def calc_e(p, q, lcm):\n",
    "    \"\"\"\n",
    "    @description calculates the e for two integers p and q, while keeping the value of e between 1 and the lcm of p-1 and q-1, returns e\n",
    "    @param p positive integer\n",
    "    @param q positive integer\n",
    "    @param lcm the least common multiple of p-1 and q-1\n",
    "    @return e integer, where 1 < e < lcm\n",
    "    \"\"\"\n",
    "    found_relatively_prime_e = False # bool tracker for relative primes and exit value on loop\n",
    "    e = 2\n",
    "    while e < lcm and found_relatively_prime_e == False: # since e must be relatively prime with (p-1)*(q-1), then we can check up to and including itself\n",
    "        if e == p or e == q: # e cannot equal p or q\n",
    "            e = e + 1 # if the value is not relatively prime then increment\n",
    "            continue\n",
    "        if Euclidean_Alg(e, (p-1)*(q-1)) == 1: # if the e is relatively prime, ie gcd is 1 with (p-1)*(q-1)\n",
    "            found_relatively_prime_e = True # then we've found an e\n",
    "        else:\n",
    "            e = e + 1 # if the value is not relatively prime then increment\n",
    "    return e\n",
    "\n",
    "def factorize(n):\n",
    "    \"\"\"\n",
    "    @description gets the number i that factors into n\n",
    "    @return integer i that factors into n, or False if it does not factor into n\n",
    "    \"\"\"\n",
    "    for i in range(2, n): # for all values between 2 and n-1\n",
    "        if n % i == 0: # does the number factor into n\n",
    "            return i # return it\n",
    "    return False\n",
    "\n",
    "def get_custom_n():\n",
    "    \"\"\"\n",
    "    @description gets a value n from the user, it validates whether this n can be used by checking if the p and q that factor from it are prime\n",
    "    @return p, q, and n integers\n",
    "    \"\"\"\n",
    "    is_valid_input = False\n",
    "    while not is_valid_input:\n",
    "        input_n = int(input('Please enter a valid n'))\n",
    "        p = factorize(input_n) # factorized p value\n",
    "        if not p or not is_prime(p): # if p is false or not a prime\n",
    "            print('Not a valid n input, n must be created by multiplying two primes.')\n",
    "            continue # try again\n",
    "        q = int(input_n/p) # get the q = n/p\n",
    "        if not is_prime(q): # check if its prime as well\n",
    "            print('Not a valid n input, n must be created by multiplying two primes.')\n",
    "            continue # if not try again\n",
    "        n = input_n\n",
    "        print('p = {}\\nq = {}\\nn = {}'.format(p,q,n))\n",
    "        return p,q,n\n",
    "    \n",
    "def get_custom_e(p,q):\n",
    "    \"\"\"\n",
    "    @description gets the e value given a set of p and q\n",
    "    @return e\n",
    "    \"\"\"\n",
    "    is_valid_input = False \n",
    "    while not is_valid_input:\n",
    "        input_e = int(input('Please enter a valid e'))\n",
    "        if Euclidean_Alg(input_e, (p-1)*(q-1)) != 1: # if the e is not relatively prime to (p-1)(q-1) that the user inputted then enter\n",
    "            print('Not a valid e input, e must be relatively prime to (p-1)*(q-1).')\n",
    "            n,e = Find_Public_Key_e(p,q) # suggest an e for the user\n",
    "            print('Suggested e: {}'.format(e))\n",
    "            continue # try again\n",
    "        print('e = {}'.format(input_e))\n",
    "        return input_e\n",
    "    \n",
    "def set_public_keys():\n",
    "    \"\"\"\n",
    "    @description sets the public keys \n",
    "    \"\"\"\n",
    "    print('To find a Private Key d, Public Keys must be set...')\n",
    "    is_valid_input = False\n",
    "    while not is_valid_input:\n",
    "        user_input = input('Input use custom n,e public keys or create new n, e public keys? Enter... (C, N)')\n",
    "        is_valid_input = check_input_valid(choose_public_keys_inputs, user_input)\n",
    "        if not is_valid_input: # if input is not in C or N\n",
    "            print('Not a valid input...')\n",
    "            continue\n",
    "        if user_input == 'C': # if input is C, \n",
    "            p,q,n = get_custom_n() # gets p,q, n from the user\n",
    "            e = get_custom_e(p,q) # gets the e given the p and q\n",
    "            d = None\n",
    "        else: # if input is N\n",
    "            p,q,n,e,d = do_option_1() # gets all values p,q,n,e if they want to generate a new set of public keys\n",
    "    return p,q,n,e,d\n",
    "\n",
    "def break_code(n, e, message):\n",
    "    \"\"\"\n",
    "    @description method used to decode a cipher text provided we have the n and e public keys\n",
    "    @param n integer, p * q, multiple of two primes\n",
    "    @param e integer, which is relatively prime of (p-1)(q-1) gcd(e, (p-1)(q-1)) == 1\n",
    "    @param message, array of encrypted characters\n",
    "    \"\"\"\n",
    "    p = factorize(n)\n",
    "    d = Find_Private_Key_d(e, p, int(n/p))\n",
    "    return Decode(n, d, message)\n",
    "\n",
    "def FME(b, n, m):\n",
    "    \"\"\"\n",
    "    1. Using the fast modular exponentiation algorithm,\n",
    "    the below function should return b**n mod m.\n",
    "    As described on page 254. (however, you may input the exponent and \n",
    "    then convert it to a string - the book version imports the binary expansion)  \n",
    "    2. You should use the function defined above Convert_Binary_String() if using the book algorithm.\n",
    "    3. For this block you MUST use one of the 3 methods above.\n",
    "    4. Any method using bit-shifting or copied from the internet (even changing varibale names) will result in a 0.\n",
    "    \n",
    "    **If you are completely stuck, you may use pow() with a 10pt penalty.**\n",
    "\n",
    "    You may use the function you developed in your Mastery Workbook - but be sure it is your own\n",
    "    work, commented, etc. and change inputs as needed.\n",
    "    \"\"\"  \n",
    "    \"\"\"\n",
    "        @description: Determines the value of b^n mod m, using Sriram's algorithm. It converts n to binary and multiplies 1 bit values with the square of b\n",
    "        @param: b int, number that is to the power of some n\n",
    "        @param: n int, number exponent\n",
    "        @param: m int, the modulo value\n",
    "        @return: result int, the value of b^n mod m\n",
    "    \"\"\"\n",
    "    if type(b) != type(0) or type(n) != type(0) or type(m) != type(0):\n",
    "        return 'b, n, and m must be of integer type: {},{},{}'.format(b,n,m)\n",
    "    result = 1 # init as 1, avoid NPE\n",
    "    square = b # init as given a in a^n mod b\n",
    "    while n > 0: # will exist once all bits have been looped through\n",
    "        k = n % 2 # converts n to binary, will exit when steps are complete \n",
    "        if k == 1: # if the bit is 1\n",
    "            result = (result * square) % m # 1 bit n values multiplied by the square\n",
    "        square = (square * square) % m # square^2, square^4, square^8... square^k-1, square^k\n",
    "        n //= 2 # divide by base 2, to get next bit\n",
    "    return result\n",
    "\n",
    "def split_user_input(message):\n",
    "    \"\"\"\n",
    "    @description splits the user decoded input [123145,12312,125]\n",
    "    @returns the int list of the user input\n",
    "    \"\"\"\n",
    "    cipher_text = []\n",
    "    for code in message.strip().strip('[]').split(','): # strip the brackets and split the string by ,\n",
    "        cipher_text.append(int(code)) # convert to int and append to the list\n",
    "    return cipher_text\n",
    "\n",
    "################ EUCLIDEAN ALGORITHMS ####################\n",
    "def Euclidean_Alg(a, b):\n",
    "    \"\"\"\n",
    "    1. Calculate the Greatest Common Divisor of a and b.\n",
    "    \n",
    "    2. This version should have only positive inputs and outputs.\n",
    "    \n",
    "    3. The function must return a single integer ('x') which is\n",
    "    the gcd of a and b.\n",
    "    \n",
    "    \n",
    "    \"\"\"\n",
    "    \"\"\"\n",
    "    @description Calculate the Greatest Common Divisor of a and b. \n",
    "    This code is from The Euclidean Algorithm from page 269 in Discrete Mathematics and Its Applications 7th Edition\n",
    "    @param a positive integer value\n",
    "    @param b positive integer value\n",
    "    @return integer Greatest Common Divisor of a and b\n",
    "    \"\"\"\n",
    "    if type(a) != type(0) or type(b) != type(0):\n",
    "        return 'a and b must be of integer type to find the greater common divisor: {},{}'.format(a,b)\n",
    "    if a < 0 or b < 0:\n",
    "        return 'A value provided is not positive, all integer values must be positive: {},{}'.format(a,b)\n",
    "    x = a\n",
    "    y = b\n",
    "    while y != 0: # while the remainder is not 0\n",
    "        r = x % y # get the remainder of x modulo y\n",
    "        x = y\n",
    "        y = r\n",
    "    return x\n",
    "\n",
    "def EEA(a, b):\n",
    "    \"\"\"\n",
    "    This is a helper function utilizing Bezout's theorem as discussed in your MW.\n",
    "    You will follow these same steps closely to construct this function.\n",
    "    \n",
    "    This version will return both: \n",
    "    1. the GCD of a, b \n",
    "    2. Bezout's coefficients in any form you wish. We recommend returning your coefficients as a list or a tuple. \n",
    "    HINT: return GCD, (s1, t1)\n",
    "    \n",
    "    * Ensure that your inputs are positive integers. Implement these kinds of checks.\n",
    "    * It might also behoove you to consider reassigning a, b to new coefficients depending on which is greater.\n",
    "    \n",
    "    \"\"\"\n",
    "    '''\n",
    "        @description uses the extended euclidean algorithm to find the greatest common divisor(gcd) of two positive integers a and b, and the bezout coefficients required to compute the gcd\n",
    "        @param a, positive integer\n",
    "        @param b, positive integer\n",
    "        @return integer a (gcd), tuple s1,t1 (bezout coefficients)\n",
    "    '''\n",
    "    if type(a) != type(0) or type(b) != type(0):\n",
    "        return 'a and b must be of integer type: {},{}'.format(a,b)\n",
    "    if a < 0 or b < 0:\n",
    "        return 'A value provided is not positive, all integer values must be positive: {},{}'.format(a,b)\n",
    "    s1, t1, s2, t2 = 1,0,0,1 # initialize all starting bezout coefficients\n",
    "    \n",
    "    while b > 0:\n",
    "        k = a % b # find the remainder \n",
    "        q = a // b # find the quotient\n",
    "        \n",
    "        a = b # assigning a = b or (s2m0 + t2n0)\n",
    "        b = k # assign the remainder to n\n",
    "        \n",
    "        # because we set m = n we need to assign the n's bezout coefficients to m's bezout coefficients\n",
    "        s1_hat,t1_hat = s2,t2 # set temporary values for s1 and t1 \n",
    "        # because we set n = k, we use k = m mod n or m0 n0's bezout coefficients which is equal to (s1 - qs2)m0 + (t1 - qt2)n0\n",
    "        s2_hat,t2_hat = s1 - q * s2, t1 - q * t2 # set temporary values for s2 and t2 \n",
    "\n",
    "        s1,t1 = s1_hat,t1_hat # assign back the temporary values to s1 and t1\n",
    "        s2,t2 = s2_hat,t2_hat # assign back the temporary values to s2 and t2\n",
    "    return a,(s1,t1)\n",
    "\n",
    "################ GENERATE KEYS ####################\n",
    "def Find_Public_Key_e(p, q):\n",
    "    \"\"\"\n",
    "    Implement this function such that\n",
    "    it takes 2 primes p and q.\n",
    "    \n",
    "    Use the gcd function that you have \n",
    "    defined before.\n",
    "    \n",
    "    The function should return 2 elements as follows:\n",
    "    public key: n\n",
    "    public key: e\n",
    "    \n",
    "    HINT: this function will run a loop to find e such \n",
    "    that e is relatively prime to (p - 1) (q - 1) \n",
    "    and not equal to p or q.\n",
    "    \n",
    "    NOTE: There are a number of ways to implement this key feature. \n",
    "    You, as the coder, can choose to how to acheive this goal.\n",
    "    \n",
    "    \"\"\"\n",
    "    \"\"\"\n",
    "    @description Find_Public_Key_e takes two primes p and q, and finds an e such that it is relatively prime to (p-1)(q-1)\n",
    "    @param p prime integer\n",
    "    @param q prime integer\n",
    "    @return n (p*q), e\n",
    "    \"\"\"\n",
    "    if p < 2 or q < 2: # arguments p and q must be equal to or greater than 2\n",
    "        return 'All values provided must be greater than or equal to 2, and prime: {},{}'.format(p,q)\n",
    "    if not is_prime(p) or not is_prime(q): # check whether p or q is a prime, if not return the p,q values and ask for primes\n",
    "        return 'All values provided must be prime {},{}'.format(p,q)\n",
    "    lcm = calc_lcm(p-1, q-1) # https://en.wikipedia.org/wiki/RSA_(cryptosystem) e should be in the range 1 < e < lcm(p-1,q-1)\n",
    "    return p*q, calc_e(p,q,lcm) # return n, e\n",
    "\n",
    "def Find_Private_Key_d(e, p, q):\n",
    "    \"\"\"\n",
    "    Implement this function to find the decryption exponent d, \n",
    "    such that d is the modular inverse of e. \n",
    "    \n",
    "    This will use the Extended Euclidean Algorithm\n",
    "    \n",
    "    This function should return the following:\n",
    "    d: the decryption component.\n",
    "    \n",
    "    This is not a single action, and there are multiple methods to create this. \n",
    "    \n",
    "    You may create a helper function or have all code within this function.\n",
    "    \n",
    "    Plan ahead before coding this.\n",
    "\n",
    "    \"\"\"\n",
    "    \"\"\"\n",
    "    @description Find_Private_Key_d finds the inverse d of e modulo (p-1)(q-1). This is done by using the Extended Euclidean Algorithm, finding the Bezout coefficient s in sm + tn.\n",
    "    @param e integer relatively prime to (p-1)(q-1)\n",
    "    @param p prime integer\n",
    "    @param q prime integer\n",
    "    @return d integer\n",
    "    \"\"\"\n",
    "    if e < 0:\n",
    "        return 'e must be a positive integer {}'.format(e)\n",
    "    if p < 2 or q < 2: # arguments p and q must be equal to or greater than 2\n",
    "        return 'All values provided must be greater than or equal to 2, and prime: {},{}'.format(p,q)\n",
    "    if not is_prime(p) or not is_prime(q): # check whether p or q is a prime, if not return the p,q values and ask for primes\n",
    "        return 'All values provided must be prime {},{}'.format(p,q)\n",
    "    gcd, b_coefficients = EEA(e, (p-1)*(q-1)) # find the gcd of e and n, as well as the bezout coefficients\n",
    "    d = int(b_coefficients[0]) # in Bezouts theorem, sa + tb, s is d, which is the inverse of e\n",
    "    d = increment_by_mod(d, (p-1)*(q-1)) # if d is negative add the mod to it\n",
    "    return d\n",
    "\n",
    "############ ENCODE / DECODE ###############\n",
    "\n",
    "def Encode(n, e, message):\n",
    "    \"\"\"\n",
    "    Here, the message will be a string of characters.\n",
    "    Use the function Convert_Text from \n",
    "    the basic tool set and get a list of numbers.\n",
    "    \n",
    "    Encode each of these numbers using n and e and\n",
    "    return the encoded cipher_text.\n",
    "    \"\"\"\n",
    "    \"\"\"\n",
    "    @description takes a string an encrypts by first converting each character to unicode, then using FME on each unicode C = M**e mod n\n",
    "    @param integer n, p*q public key\n",
    "    @param integer e, e relatively prime to (p-1)(q-1) public key \n",
    "    @param string message to encrypt\n",
    "    @return list, encoded unicodes\n",
    "    \"\"\"\n",
    "    cipher_text = []\n",
    "    converted_msg = Convert_Text(message) # convert a string to an array of unicodes\n",
    "    for code in converted_msg: # for each unicode in the array \n",
    "        cipher_text.append(FME(code, e, n)) # encrypt the unicode using Fast Modular exponentiation, C = M**e mod n\n",
    "    return cipher_text\n",
    "\n",
    "def Decode(n, d, cipher_text):\n",
    "    \"\"\"\n",
    "    Here, the cipher_text will be a list of integers.\n",
    "    First, you will decrypt each of those integers using \n",
    "    n and d.\n",
    "    \n",
    "    Later, you will need to use the function Convert_Num from the \n",
    "    basic toolset to recover the original message as a string. \n",
    "    \n",
    "    \"\"\"\n",
    "    \"\"\"\n",
    "    @description takes a array of encrypted unicodes and decrypts using the inverse d of e modulo (p-1)(q-1) to find M = C**d mod n\n",
    "    @param integer, n p*q public key\n",
    "    @param integer, d \n",
    "    @param list, encrypted unicodes\n",
    "    @return string decrypted unicodes\n",
    "    \"\"\"\n",
    "    message = ''\n",
    "    decrypted_text = []\n",
    "    for code in cipher_text: # for each unicode in the array\n",
    "        decrypted_text.append(FME(code, d, n)) # decrypt the unicodes using Fast modular exponentiation, M = C**d mod n\n",
    "    message = Convert_Num(decrypted_text) # convert the decrypted unicodes to a string\n",
    "    return message\n",
    "\n",
    "########## EXECUTE OPTIONS #############\n",
    "\n",
    "def do_option_1():\n",
    "    \"\"\"\n",
    "    @description Generates the Public key for RSA using a randomly generated p and q or user provided p and d\n",
    "    @return e,p,q,n,d\n",
    "    \"\"\"\n",
    "    p,q = get_primes_p_q()\n",
    "    n,e = Find_Public_Key_e(p,q)\n",
    "    print('p = {}\\nq = {}\\nn = {}\\ne = {}'.format(p,q,n,e))\n",
    "    d=None\n",
    "    return e,p,q,n,d\n",
    "\n",
    "def do_option_2(e, p, q, n):\n",
    "    \"\"\"\n",
    "    @description Generates the private key d for RSA from a given p, q, e and n\n",
    "    @return e,p,q,n,d\n",
    "    \"\"\"\n",
    "    if p is None:\n",
    "        p,q,n,e,d = set_public_keys()\n",
    "    d = Find_Private_Key_d(e, p, q)\n",
    "    print('d = {}'.format(d))\n",
    "    return e,p,q,n,d\n",
    "\n",
    "def do_option_3(e, p, q, n, d):\n",
    "    \"\"\"\n",
    "    @description Encodes a given string given p, q, e and n\n",
    "    @return e,p,q,n,d\n",
    "    \"\"\"\n",
    "    if e is None:\n",
    "        print('Looks like some values are undefined, let''s set that up...')\n",
    "        e,p,q,n,d = do_option_1()\n",
    "    message = input('Provide a message to encode: ')\n",
    "    print('Encoded Message: {}'.format(Encode(n, e, message)))\n",
    "    return e,p,q,n,d\n",
    "\n",
    "def do_option_4(e, p, q, n, d):\n",
    "    \"\"\"\n",
    "    @description decodes a given list of strings given p, q, e, n and d\n",
    "    @return e,p,q,n,d\n",
    "    \"\"\"\n",
    "    if d is None:\n",
    "        print('Looks like some values are undefined, let''s set that up...')\n",
    "        e,p,q,n,d = do_option_2(e,p,q,n)\n",
    "    message = input('Provide a message to decode: ')\n",
    "    print('Decoded Message: {}'.format(Decode(n, d, split_user_input(message))))\n",
    "    return e,p,q,n,d\n",
    "\n",
    "def do_option_5():\n",
    "    \"\"\"\n",
    "    @description code breaks a given list of strings given user provided n and e\n",
    "    \"\"\"\n",
    "    code_break_n = int(input('Please provide an n'))\n",
    "    code_break_e = int(input('Please provide an e'))\n",
    "    code_break_message = input('Please provide a message to break')\n",
    "    print(break_code(code_break_n, code_break_e, split_user_input(code_break_message)))\n",
    "    \n",
    "def run_RSA_program():\n",
    "    get_list_of_primes() # generate list of primes that are cached as a global variable\n",
    "    running = True\n",
    "    p,q,n,e,d = None, None, None, None, None # init values\n",
    "    while running:\n",
    "        user_input = input(main_prompt)\n",
    "        is_valid_input = check_input_valid(main_prompt_inputs, user_input) # check if user has input 1,2,3,4,5,Q\n",
    "        if not is_valid_input: #if not then ask for a new input\n",
    "            print('Not a valid input...')\n",
    "            continue\n",
    "        elif user_input == '1': # if value is 1 then Find public keys\n",
    "            e,p,q,n,d = do_option_1()\n",
    "        elif user_input == '2':# if value is 2 then find private keys\n",
    "            e,p,q,n,d = do_option_2(e,p,q,n)\n",
    "        elif user_input == '3': # if value is 3 encode message\n",
    "            e,p,q,n,d = do_option_3(e,p,q,n,d)\n",
    "        elif user_input == '4': # if value is 4 decode message\n",
    "            e,p,q,n,d = do_option_4(e,p,q,n,d)\n",
    "        elif user_input == '5': # if value is 5 break code\n",
    "            do_option_5()\n",
    "        elif user_input == 'Q': # if value is Q exit program\n",
    "            running = False\n",
    "    print('Exiting RSA Program...')\n",
    "\n",
    "########### MAIN #################\n",
    "\n",
    "def main():\n",
    "    run_RSA_program()\n",
    "\n",
    "if __name__ == \"__main__\":\n",
    "    main()"
   ]
  },
  {
   "cell_type": "markdown",
   "metadata": {},
   "source": [
    "## Self grading of custom feature ##\n",
    "\n",
    "Here in this block, please rate what score out of 8 your custom feature merits given the criteria above:\n",
    "\n",
    "* For example, if you are brand new to programming, using a main function could be an amazing feature - tell me how this helped you move to a new level.\n",
    "* In what ways did you push yourself? Did you try something you've never done before?\n",
    "* Alternatively, if you just did not have the time to do the custom feature, this is actually just fine and a reasonable choice. No judgment.\n",
    "\n",
    "I believe I deserve a 9. Even though I am a software engineer, my architecture, organization, and commenting suffer. I feel I need to improve on the basics before latching on to something too complicated. This was my attempt to keep an organized structure while Jupyter and have methods small and readable. I tried my best to avoid spaghetti code, while ensuring all the feature that I wanted for this project got in and made sense. I feel I pushed myself to a new standard of writing and documenting code that I do not normally hold myself to."
   ]
  }
 ],
 "metadata": {
  "kernelspec": {
   "display_name": "Python 3 (ipykernel)",
   "language": "python",
   "name": "python3"
  },
  "language_info": {
   "codemirror_mode": {
    "name": "ipython",
    "version": 3
   },
   "file_extension": ".py",
   "mimetype": "text/x-python",
   "name": "python",
   "nbconvert_exporter": "python",
   "pygments_lexer": "ipython3",
   "version": "3.10.8"
  },
  "toc-autonumbering": false,
  "toc-showcode": true,
  "toc-showmarkdowntxt": false
 },
 "nbformat": 4,
 "nbformat_minor": 4
}
